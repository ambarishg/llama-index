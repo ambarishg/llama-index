{
 "cells": [
  {
   "cell_type": "code",
   "execution_count": 29,
   "metadata": {},
   "outputs": [],
   "source": [
    "from llama_index.vector_stores.qdrant import QdrantVectorStore\n",
    "from qdrant_client import QdrantClient\n",
    "from config import *\n",
    "from pprint import pprint"
   ]
  },
  {
   "cell_type": "code",
   "execution_count": 30,
   "metadata": {},
   "outputs": [],
   "source": [
    "client = QdrantClient(URL,port=6333)"
   ]
  },
  {
   "cell_type": "code",
   "execution_count": 31,
   "metadata": {},
   "outputs": [],
   "source": [
    "vector_store = QdrantVectorStore(client=client, collection_name=COLLECTION_NAME)"
   ]
  },
  {
   "cell_type": "code",
   "execution_count": 32,
   "metadata": {},
   "outputs": [],
   "source": [
    "import fitz"
   ]
  },
  {
   "cell_type": "code",
   "execution_count": 33,
   "metadata": {},
   "outputs": [],
   "source": [
    "doc = fitz.open(DIR_PATH + \"/HIGHWAYS.pdf\")"
   ]
  },
  {
   "cell_type": "code",
   "execution_count": 34,
   "metadata": {},
   "outputs": [],
   "source": [
    "from llama_index.core.node_parser import SentenceSplitter"
   ]
  },
  {
   "cell_type": "code",
   "execution_count": 35,
   "metadata": {},
   "outputs": [],
   "source": [
    "text_splitter = SentenceSplitter(\n",
    "    chunk_size=512\n",
    ")"
   ]
  },
  {
   "cell_type": "code",
   "execution_count": 36,
   "metadata": {},
   "outputs": [],
   "source": [
    "text_chunks = []\n",
    "# maintain relationship with source doc index, to help inject doc metadata in (3)\n",
    "doc_idxs = []\n",
    "for doc_idx, page in enumerate(doc):\n",
    "    page_text = page.get_text(\"text\")\n",
    "    cur_text_chunks = text_splitter.split_text(page_text)\n",
    "    text_chunks.extend(cur_text_chunks)\n",
    "    doc_idxs.extend([doc_idx] * len(cur_text_chunks))"
   ]
  },
  {
   "cell_type": "code",
   "execution_count": 37,
   "metadata": {},
   "outputs": [
    {
     "data": {
      "text/plain": [
       "20"
      ]
     },
     "execution_count": 37,
     "metadata": {},
     "output_type": "execute_result"
    }
   ],
   "source": [
    "len(doc_idxs)"
   ]
  },
  {
   "cell_type": "code",
   "execution_count": 38,
   "metadata": {},
   "outputs": [
    {
     "name": "stdout",
     "output_type": "stream",
     "text": [
      "('NATIONAL HIGHWAYS DEVELOPMENT PROJECT\\n'\n",
      " 'Infrastructure is critical to improved productivity across all sectors. \\n'\n",
      " 'The \\n'\n",
      " 'current \\n'\n",
      " 'level \\n'\n",
      " 'of \\n'\n",
      " 'annual \\n'\n",
      " 'Gross \\n'\n",
      " 'Capital \\n'\n",
      " 'Formation \\n'\n",
      " 'in \\n'\n",
      " 'the \\n'\n",
      " 'infrastructure sectors is about 4.6% of GDP and needs to be ramped up \\n'\n",
      " 'to 8 % during the course of the Eleventh Five Year Plan. This would \\n'\n",
      " 'require a very significant scaling up of investment from the public as \\n'\n",
      " 'well as the private sectors. While public investment in infrastructure \\n'\n",
      " 'would continue to increase, the role of private participation needs to \\n'\n",
      " 'expand significantly to address the deficit in infrastructure services.\\n'\n",
      " 'Contents\\n'\n",
      " 'Contents\\n'\n",
      " '4\\n'\n",
      " '6\\n'\n",
      " '8\\n'\n",
      " '12\\n'\n",
      " '10\\n'\n",
      " '14\\n'\n",
      " '15\\n'\n",
      " 'Indian Road Infrastructure\\n'\n",
      " 'Policy Initiatives \\n'\n",
      " 'National Highways Development Project\\n'\n",
      " 'Financing of National Highways \\n'\n",
      " 'Development Projects\\n'\n",
      " 'Public Private Participation\\n'\n",
      " 'Investment Environment in India\\n'\n",
      " 'Foreign Participation\\n'\n",
      " 'The Road Ahead\\n'\n",
      " 'Expressways\\n'\n",
      " 'Special Emphasis : North-East \\n'\n",
      " 'Other Projects of Importance\\n'\n",
      " 'Emerging Opportunities\\n'\n",
      " '16\\n'\n",
      " '17\\n'\n",
      " '18\\n'\n",
      " '19\\n'\n",
      " '20')\n"
     ]
    }
   ],
   "source": [
    "pprint(text_chunks[1])"
   ]
  },
  {
   "cell_type": "code",
   "execution_count": 39,
   "metadata": {},
   "outputs": [],
   "source": [
    "from llama_index.core.schema import TextNode"
   ]
  },
  {
   "cell_type": "code",
   "execution_count": 40,
   "metadata": {},
   "outputs": [],
   "source": [
    "nodes = []\n",
    "for idx, text_chunk in enumerate(text_chunks):\n",
    "    node = TextNode(\n",
    "        text=text_chunk,\n",
    "    )\n",
    "    src_doc_idx = doc_idxs[idx]\n",
    "    src_page = doc[src_doc_idx]\n",
    "    nodes.append(node)"
   ]
  },
  {
   "cell_type": "code",
   "execution_count": 41,
   "metadata": {},
   "outputs": [],
   "source": [
    "from llama_index.llms.azure_openai import AzureOpenAI\n",
    "llm = AzureOpenAI(\n",
    "    model=\"gpt-35-turbo\",\n",
    "    deployment_name=deployment_id_gpt4,\n",
    "    api_key=key,\n",
    "    azure_endpoint=endpoint,\n",
    "    api_version=api_version,\n",
    ")"
   ]
  },
  {
   "cell_type": "code",
   "execution_count": 42,
   "metadata": {},
   "outputs": [],
   "source": [
    "from llama_index.core.extractors import (\n",
    "    QuestionsAnsweredExtractor,\n",
    "    TitleExtractor,\n",
    ")\n",
    "from llama_index.core.ingestion import IngestionPipeline\n",
    "\n",
    "extractors = [\n",
    "    TitleExtractor(nodes=5, llm=llm),\n",
    "    QuestionsAnsweredExtractor(questions=3, llm=llm),\n",
    "]"
   ]
  },
  {
   "cell_type": "code",
   "execution_count": 43,
   "metadata": {},
   "outputs": [
    {
     "name": "stderr",
     "output_type": "stream",
     "text": [
      "100%|██████████| 5/5 [00:00<00:00,  7.49it/s]\n",
      "100%|██████████| 20/20 [00:09<00:00,  2.12it/s]\n"
     ]
    }
   ],
   "source": [
    "pipeline = IngestionPipeline(\n",
    "    transformations=extractors,\n",
    ")\n",
    "nodes = await pipeline.arun(nodes=nodes, in_place=False)"
   ]
  },
  {
   "cell_type": "code",
   "execution_count": 44,
   "metadata": {},
   "outputs": [
    {
     "name": "stdout",
     "output_type": "stream",
     "text": [
      "{'document_title': 'Opportunities and Policy Initiatives for Profitable '\n",
      "                   'Partnership and Infrastructure Investment in Indian '\n",
      "                   'Highways and National Highways Development Project: A '\n",
      "                   'Comprehensive Overview.',\n",
      " 'questions_this_excerpt_can_answer': '1. What is the status of the Indian '\n",
      "                                      'Highways and National Highways '\n",
      "                                      'Development Project as of August 2006?\\n'\n",
      "                                      '2. Who prepared the brochure on the '\n",
      "                                      'emerging opportunities for profitable '\n",
      "                                      'partnership in Indian highways?\\n'\n",
      "                                      '3. Who designed the brochure on the '\n",
      "                                      'Indian Highways and National Highways '\n",
      "                                      'Development Project? \\n'\n",
      "                                      '\\n'\n",
      "                                      'Context summary: The excerpt is from a '\n",
      "                                      'brochure prepared by the Information '\n",
      "                                      'Technology & Planning Division of NHAI, '\n",
      "                                      'Ministry of Shipping, Road Transport & '\n",
      "                                      'Highways, providing an overview of '\n",
      "                                      'opportunities and policy initiatives '\n",
      "                                      'for profitable partnership and '\n",
      "                                      'infrastructure investment in Indian '\n",
      "                                      'highways and the National Highways '\n",
      "                                      'Development Project. The brochure was '\n",
      "                                      'designed by New Ink Publications Pvt. '\n",
      "                                      'Ltd.'}\n"
     ]
    }
   ],
   "source": [
    "pprint(nodes[0].metadata)"
   ]
  },
  {
   "cell_type": "code",
   "execution_count": 45,
   "metadata": {},
   "outputs": [
    {
     "name": "stderr",
     "output_type": "stream",
     "text": [
      "Fetching 9 files: 100%|██████████| 9/9 [00:00<00:00, 28948.42it/s]\n"
     ]
    }
   ],
   "source": [
    "from llama_index.embeddings.fastembed import FastEmbedEmbedding\n",
    "\n",
    "embed_model = FastEmbedEmbedding()"
   ]
  },
  {
   "cell_type": "code",
   "execution_count": 46,
   "metadata": {},
   "outputs": [],
   "source": [
    "for node in nodes:\n",
    "    node_embedding = embed_model.get_text_embedding(\n",
    "        node.get_content(metadata_mode=\"all\")\n",
    "    )\n",
    "    node.embedding = node_embedding"
   ]
  },
  {
   "cell_type": "code",
   "execution_count": 47,
   "metadata": {},
   "outputs": [
    {
     "name": "stdout",
     "output_type": "stream",
     "text": [
      "TextNode(id_='cab8f96b-b514-4d67-9120-0e966436bfb1', embedding=[-0.04695820063352585, 0.024249175563454628, -0.018253210932016373, 0.008525742217898369, 0.011761258356273174, 0.039416685700416565, -0.02633238211274147, 0.012222268618643284, -0.0746278241276741, 0.026546934619545937, -0.010993728414177895, -0.0068054539151489735, 0.011392280459403992, 0.003379110712558031, -0.022071877494454384, 0.040086641907691956, -0.0015025608008727431, -0.11408837884664536, 0.030617743730545044, 0.030993018299341202, 0.0742076113820076, -0.03122398443520069, -0.0018415898084640503, -0.03510534390807152, 0.06025262922048569, 0.040362659841775894, 0.0352342426776886, -0.047318462282419205, 0.004384218715131283, -0.15309694409370422, -0.02285687066614628, -0.005235077813267708, -0.01735851541161537, -0.04344358667731285, -0.06125152111053467, 0.07274097204208374, -0.0025266127195209265, 0.11468368768692017, 0.0987730622291565, -0.06899642199277878, 0.02406373992562294, -0.01338239386677742, 0.006474500522017479, -0.009472503326833248, 2.2451868062489666e-05, -0.013415798544883728, 0.0013511031866073608, -0.0396377258002758, -0.019072724506258965, -0.07553969323635101, -0.0007248599431477487, -0.07158520817756653, 0.0020419498905539513, -0.02350762113928795, 0.06068405136466026, 0.018808182328939438, -0.0072226920165121555, 0.03537791594862938, 0.006555031053721905, 0.05766500532627106, 0.04310247302055359, 0.0175072830170393, -0.21373985707759857, 0.06234951689839363, 0.021490970626473427, 0.002828884171321988, -0.05486965551972389, -0.021678034216165543, -0.012329667806625366, 0.06949566304683685, 0.056847188621759415, -0.021816976368427277, -0.013102558441460133, -0.005247124936431646, 0.024850724264979362, 0.009837809950113297, 0.008660380728542805, 0.07281357795000076, -0.0013949639396741986, -0.04344332963228226, 0.021203620359301567, 0.07227946817874908, -0.01378521230071783, 0.021420449018478394, -0.033365603536367416, -0.019615167751908302, -0.0032042774837464094, -0.017993150278925896, -0.008996790274977684, -0.04056399688124657, 0.06731391698122025, -0.008465721271932125, 0.008325905539095402, -0.005548893008381128, -0.09003329277038574, -0.042477093636989594, -0.01648029126226902, -0.003783156629651785, -0.020705247297883034, 0.4115554988384247, -0.03958329185843468, -0.02864556759595871, -0.0016281148418784142, 0.016082195565104485, 0.012102813459932804, -0.01334870234131813, -0.010320065543055534, -0.034756988286972046, -0.0009377747192047536, -0.0038019362837076187, 0.05694970116019249, 0.006001431494951248, 0.011475641280412674, -0.015579399652779102, -0.019742056727409363, 0.01173525769263506, -0.013834596611559391, 0.038664642721414566, -0.05698750168085098, -0.025513658300042152, -0.03035137429833412, 0.03905658423900604, 0.040056414902210236, -0.022871172055602074, -0.04720841348171234, -0.01861019991338253, 0.020781278610229492, 0.02017391100525856, -0.021405361592769623, 0.016985122114419937, 0.0056749931536614895, 0.04269785434007645, -0.08241615444421768, -0.0454452782869339, -0.00030187430093064904, -0.030830439180135727, 0.039931803941726685, -0.05495903640985489, -0.034232862293720245, 0.008624721318483353, 0.03497907519340515, -0.008006325922906399, -0.005418398883193731, -0.07494370639324188, -0.027177542448043823, 0.09189444780349731, 0.0655832439661026, -0.02594331093132496, -0.010892783291637897, -6.246742850635201e-05, 0.012250024825334549, 0.011209710501134396, -0.06782784312963486, -0.03389545902609825, 0.01215413585305214, -0.015238611958920956, 0.01364775188267231, 0.035838719457387924, -0.05586368218064308, 0.038863684982061386, 0.010599927045404911, -0.03478208929300308, -0.06794831901788712, 0.10225706547498703, 0.0038434299640357494, -0.16384084522724152, -0.006509284023195505, 0.03720700740814209, -0.009710456244647503, -0.02401786670088768, -0.025161147117614746, 0.04242745041847229, 0.012863016687333584, 0.021421391516923904, 0.01147481333464384, 0.03359600156545639, 0.002901148283854127, 0.05858536437153816, 0.0140856197103858, -0.004383716732263565, -0.009704007767140865, -0.06169495731592178, -0.040058884769678116, -0.019358906894922256, 0.013504384085536003, -0.052794765681028366, -0.034908000379800797, 0.0023516854271292686, -0.0686495304107666, 0.07098212093114853, -0.06798392534255981, 0.05568596348166466, -0.05318768694996834, 0.11841782182455063, -0.019775478169322014, -0.06424658745527267, 0.009892250411212444, -0.003020763397216797, 0.01587727852165699, -0.057930756360292435, 0.024391472339630127, 0.018444951623678207, 0.014163092710077763, 0.01829754188656807, -0.029119620099663734, -0.01359469536691904, 0.02713494375348091, -0.049436841160058975, 0.011065464466810226, 0.019489390775561333, -0.037531524896621704, -0.022676298394799232, -0.029225101694464684, -0.025866519659757614, -0.024760974571108818, -0.05172457918524742, -0.00594763457775116, 0.06479540467262268, -0.05384855717420578, 0.03457928076386452, 0.004016401246190071, -0.004434108268469572, 0.016071166843175888, -0.2929556667804718, 0.01751180738210678, -0.00914152804762125, -0.04473017528653145, 0.054953671991825104, -0.04209401458501816, 0.035196393728256226, 0.05831504613161087, -0.013440979644656181, 0.02125260792672634, 0.07898776233196259, -0.009605104103684425, -0.004134072922170162, -0.009523878805339336, 0.04169665277004242, 0.03556191176176071, 0.03688644617795944, -0.03114141710102558, 0.017577683553099632, 0.030746081843972206, 0.02377084270119667, 0.04397110268473625, -0.04681074246764183, 0.008879899978637695, 0.050080832093954086, 0.006684305611997843, 0.09047126024961472, -0.08097364753484726, 0.009761396795511246, -0.002126459265127778, -0.01882539875805378, 0.07274686545133591, -0.048472266644239426, -0.1564895510673523, 0.002171454718336463, -0.020153507590293884, -0.016516761854290962, 0.002443298464640975, -0.05019795149564743, 0.01757417619228363, 0.015530303120613098, 0.05544383451342583, -0.027941890060901642, 0.04431609809398651, 0.01653325743973255, -0.051875606179237366, -0.040416598320007324, -0.01845741830766201, 0.014407495968043804, 0.06349875777959824, 0.022498812526464462, 0.01482976134866476, -0.032881952822208405, 0.0576341450214386, 0.00959451962262392, 0.006020383909344673, -0.03889983892440796, 0.02216140553355217, 0.019540509209036827, -0.04421021416783333, 0.008238568902015686, 0.02420077472925186, 0.022993721067905426, -0.02858303301036358, 0.03439037874341011, -0.01926989108324051, -0.019016766920685768, 0.04002605006098747, -0.045814912766218185, 0.014357325620949268, -0.006752335466444492, 0.05440042167901993, -0.01820904202759266, -0.014521628618240356, 0.04639760032296181, 0.01823572628200054, 0.0454297736287117, -0.06626752018928528, 0.08411605656147003, -0.02784990705549717, -0.03550723195075989, -0.029672332108020782, 0.07221562415361404, 0.06251364946365356, -0.028446223586797714, 0.05963629111647606, -0.0077595943585038185, -0.03343595564365387, -0.01771329902112484, 0.06945492327213287, 0.02859489992260933, -0.003844701685011387, 0.0602935291826725, -0.013625768013298512, 0.05951187014579773, 0.04434061795473099, -0.22659489512443542, -0.013925936073064804, 0.011904441751539707, -0.01671929471194744, -0.009482559747993946, 0.0376257486641407, 0.037112947553396225, -0.005377382040023804, 0.008969946764409542, -0.00042418972589075565, 0.020541075617074966, 0.0368407778441906, -0.005359183065593243, -0.062217701226472855, 0.03870891034603119, -0.000862084561958909, 0.047124553471803665, 0.015417574904859066, 0.010934429243206978, -0.011365990154445171, -0.03168284147977829, 0.026855917647480965, 0.12517255544662476, 0.015970680862665176, 0.0383988581597805, 0.012561121955513954, -0.057054806500673294, -0.017731716856360435, 0.008698849938809872, -0.03223705664277077, 0.03305128961801529, -0.032642658799886703, 0.0998258963227272, -0.005815444514155388, -0.00638372590765357, -0.011999350041151047, 0.024094829335808754, 0.06890833377838135, -0.06372930854558945, 0.08337832242250443, -0.028076305985450745, -0.016111992299556732, -0.015574714168906212, -0.007347565144300461, 0.07268474996089935, 0.04173396900296211, -0.01513648871332407, -0.04142465069890022, -0.02509818971157074, -0.02417081780731678, -0.011199738830327988, -0.0021752764005213976, 0.006398121826350689, -0.02366136573255062, 0.05037757381796837, 0.00663403794169426, 0.015908323228359222, -0.040953416377305984, -0.045188575983047485, 0.03000362403690815, -0.040444664657115936, 0.002794636646285653, 0.018831675872206688, 0.07522297650575638, 0.008451159112155437], metadata={'document_title': 'Opportunities and Policy Initiatives for Profitable Partnership and Infrastructure Investment in Indian Highways and National Highways Development Project: A Comprehensive Overview.', 'questions_this_excerpt_can_answer': '1. What is the status of the Indian Highways and National Highways Development Project as of August 2006?\\n2. Who prepared the brochure on the emerging opportunities for profitable partnership in Indian highways?\\n3. Who designed the brochure on the Indian Highways and National Highways Development Project? \\n\\nContext summary: The excerpt is from a brochure prepared by the Information Technology & Planning Division of NHAI, Ministry of Shipping, Road Transport & Highways, providing an overview of opportunities and policy initiatives for profitable partnership and infrastructure investment in Indian highways and the National Highways Development Project. The brochure was designed by New Ink Publications Pvt. Ltd.'}, excluded_embed_metadata_keys=[], excluded_llm_metadata_keys=[], relationships={}, text='Government of India\\nMinistry of Shipping, Road \\nTransport & Highways\\nIndian Highways \\nEmerging Opportunities for Profitable Partnership\\nThis brochure has been prepared by the Information Technology & Planning Division of NHAI, \\nMinistry of Shipping, Road Transport & Highways \\nStatus as on August, 2006\\nConceived & Designed by New Ink Publications Pvt. Ltd.', start_char_idx=None, end_char_idx=None, text_template='[Excerpt from document]\\n{metadata_str}\\nExcerpt:\\n-----\\n{content}\\n-----\\n', metadata_template='{key}: {value}', metadata_seperator='\\n')\n"
     ]
    }
   ],
   "source": [
    "pprint(nodes[0])"
   ]
  },
  {
   "cell_type": "code",
   "execution_count": 48,
   "metadata": {},
   "outputs": [
    {
     "data": {
      "text/plain": [
       "['cab8f96b-b514-4d67-9120-0e966436bfb1',\n",
       " 'f9a8287d-cf93-4ac6-8cdf-b3ae020f533d',\n",
       " 'f1f2e847-5885-4dd8-8adb-44c7cd8b12e1',\n",
       " '78d34def-97dc-4dac-bdb6-080ad865c8b1',\n",
       " 'd0a7886b-f489-4d89-a48b-7a8a4f4f5ab0',\n",
       " '0add89c9-cb02-47ce-84f3-39f8d8f0924b',\n",
       " 'f573e3db-776f-4d61-a937-e76595ac6613',\n",
       " '23b309dd-03a7-4667-a0df-e47c707a3c7e',\n",
       " '4a4b1e4a-f565-4913-879d-7372613ac967',\n",
       " 'e2ea2da3-7208-432a-862d-fae9ffe87bd9',\n",
       " '9d3b5ef7-fe08-4a83-8112-c29094ccd326',\n",
       " 'bd182b8d-089a-4304-8358-25ed468e526c',\n",
       " '5c78a53f-46df-41af-b6f1-a221bab6f204',\n",
       " '0eb5b085-fa70-42db-b587-f6a2fead3d34',\n",
       " 'ebcb8533-b399-417c-b3af-2030593c426e',\n",
       " '60863204-a0b2-401b-af8f-4f44b18787b4',\n",
       " '7f4aaf02-42e0-4a9e-ad98-78b3f7d1d35c',\n",
       " '12a749de-47cd-4a99-b535-f3fcb448ed75',\n",
       " '2fdc6f0b-3182-48a2-8961-f1503cce0075',\n",
       " '5000378d-bc02-4ff7-a3b4-4ef385c0caf3']"
      ]
     },
     "execution_count": 48,
     "metadata": {},
     "output_type": "execute_result"
    }
   ],
   "source": [
    "vector_store.add(nodes)"
   ]
  },
  {
   "cell_type": "code",
   "execution_count": 49,
   "metadata": {},
   "outputs": [],
   "source": [
    "from llama_index.core import Settings\n",
    "\n",
    "Settings.llm = llm\n",
    "Settings.embed_model = embed_model"
   ]
  },
  {
   "cell_type": "code",
   "execution_count": 50,
   "metadata": {},
   "outputs": [],
   "source": [
    "from llama_index.core  import VectorStoreIndex"
   ]
  },
  {
   "cell_type": "code",
   "execution_count": 51,
   "metadata": {},
   "outputs": [],
   "source": [
    "index = VectorStoreIndex.from_vector_store(vector_store=vector_store)"
   ]
  },
  {
   "cell_type": "code",
   "execution_count": 52,
   "metadata": {},
   "outputs": [],
   "source": [
    "query_engine = index.as_query_engine()"
   ]
  },
  {
   "cell_type": "code",
   "execution_count": 53,
   "metadata": {},
   "outputs": [],
   "source": [
    "query = \"What should government do about road safety?\""
   ]
  },
  {
   "cell_type": "code",
   "execution_count": 54,
   "metadata": {},
   "outputs": [],
   "source": [
    "response = query_engine.query(query)"
   ]
  },
  {
   "cell_type": "code",
   "execution_count": 55,
   "metadata": {},
   "outputs": [
    {
     "name": "stdout",
     "output_type": "stream",
     "text": [
      "> Source (Doc id: 888a8a07-aa16-42ae-8d8f-71249e220188): 14 \u0002 Report of the Committee\n",
      "of motorization suggest that strategies for\n",
      "reducing traffic injurie...\n",
      "\n",
      "> Source (Doc id: 4dd6886a-6874-4f91-9c62-1bb03fbecba3): 8 \u0002 Report of the Committee\n",
      "road safety. There is also no effective\n",
      "mechanism for coordinating th...\n",
      "query was: What should government do about road safety?\n",
      "answer was: Governments should make road safety a political priority, develop a multidisciplinary approach to road safety, appoint a lead agency for road safety, give it adequate resources, and make it publicly accountable. They should also set appropriate road safety targets and establish national road safety plans to achieve them, support the creation of safety advocacy groups, create budgets for road safety, and increase investment in demonstrably effective road safety activities.\n"
     ]
    }
   ],
   "source": [
    "print(response.get_formatted_sources())\n",
    "print(\"query was:\", query)\n",
    "print(\"answer was:\", response)"
   ]
  },
  {
   "cell_type": "code",
   "execution_count": 56,
   "metadata": {},
   "outputs": [
    {
     "name": "stdout",
     "output_type": "stream",
     "text": [
      "('Governments should make road safety a political priority, develop a '\n",
      " 'multidisciplinary approach to road safety, appoint a lead agency for road '\n",
      " 'safety, give it adequate resources, and make it publicly accountable. They '\n",
      " 'should also set appropriate road safety targets and establish national road '\n",
      " 'safety plans to achieve them, support the creation of safety advocacy '\n",
      " 'groups, create budgets for road safety, and increase investment in '\n",
      " 'demonstrably effective road safety activities.')\n"
     ]
    }
   ],
   "source": [
    "pprint(str(response))"
   ]
  },
  {
   "cell_type": "code",
   "execution_count": null,
   "metadata": {},
   "outputs": [],
   "source": []
  }
 ],
 "metadata": {
  "kernelspec": {
   "display_name": "env",
   "language": "python",
   "name": "python3"
  },
  "language_info": {
   "codemirror_mode": {
    "name": "ipython",
    "version": 3
   },
   "file_extension": ".py",
   "mimetype": "text/x-python",
   "name": "python",
   "nbconvert_exporter": "python",
   "pygments_lexer": "ipython3",
   "version": "3.10.13"
  }
 },
 "nbformat": 4,
 "nbformat_minor": 2
}

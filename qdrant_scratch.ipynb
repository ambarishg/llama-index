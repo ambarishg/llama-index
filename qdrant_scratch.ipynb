{
 "cells": [
  {
   "cell_type": "code",
   "execution_count": 9,
   "metadata": {},
   "outputs": [],
   "source": [
    "from llama_index.vector_stores.qdrant import QdrantVectorStore\n",
    "from qdrant_client import QdrantClient\n",
    "from config import *"
   ]
  },
  {
   "cell_type": "code",
   "execution_count": 10,
   "metadata": {},
   "outputs": [],
   "source": [
    "client = QdrantClient(URL,port=6333)"
   ]
  },
  {
   "cell_type": "code",
   "execution_count": 11,
   "metadata": {},
   "outputs": [],
   "source": [
    "vector_store = QdrantVectorStore(client=client, collection_name=COLLECTION_NAME)"
   ]
  },
  {
   "cell_type": "code",
   "execution_count": 12,
   "metadata": {},
   "outputs": [],
   "source": [
    "import fitz"
   ]
  },
  {
   "cell_type": "code",
   "execution_count": 13,
   "metadata": {},
   "outputs": [],
   "source": [
    "doc = fitz.open(DIR_PATH + \"/CHAP04-BIOLOGY-CLASS11.pdf\")"
   ]
  },
  {
   "cell_type": "code",
   "execution_count": 14,
   "metadata": {},
   "outputs": [],
   "source": [
    "from llama_index.node_parser import SentenceSplitter"
   ]
  },
  {
   "cell_type": "code",
   "execution_count": 15,
   "metadata": {},
   "outputs": [],
   "source": [
    "text_splitter = SentenceSplitter(\n",
    "    chunk_size=512\n",
    ")"
   ]
  },
  {
   "cell_type": "code",
   "execution_count": 16,
   "metadata": {},
   "outputs": [],
   "source": [
    "text_chunks = []\n",
    "# maintain relationship with source doc index, to help inject doc metadata in (3)\n",
    "doc_idxs = []\n",
    "for doc_idx, page in enumerate(doc):\n",
    "    page_text = page.get_text(\"text\")\n",
    "    cur_text_chunks = text_splitter.split_text(page_text)\n",
    "    text_chunks.extend(cur_text_chunks)\n",
    "    doc_idxs.extend([doc_idx] * len(cur_text_chunks))"
   ]
  },
  {
   "cell_type": "code",
   "execution_count": 17,
   "metadata": {},
   "outputs": [
    {
     "data": {
      "text/plain": [
       "29"
      ]
     },
     "execution_count": 17,
     "metadata": {},
     "output_type": "execute_result"
    }
   ],
   "source": [
    "len(doc_idxs)"
   ]
  },
  {
   "cell_type": "code",
   "execution_count": 18,
   "metadata": {},
   "outputs": [
    {
     "data": {
      "text/plain": [
       "'38\\nBIOLOGY\\nEchinoderms and Chordates, organs have\\nassociated to form functional systems, each\\nsystem concerned with a specific physiological\\nfunction. This pattern is called organ system\\nlevel of organisation. Organ systems in different\\ngroups of animals exhibit various patterns of\\ncomplexities. For example, the digestive system\\nin Platyhelminthes has only a single opening\\nto the outside of the body that serves as both\\nmouth and anus, and is hence called\\nincomplete. A complete digestive system has\\ntwo openings, mouth and anus. Similarly, the\\ncirculatory system may be of two types:\\n(i) open type in which the blood is pumped\\nout of the heart and the cells and tissues are\\ndirectly bathed in it and\\n(ii) closed type in which the blood is circulated\\nthrough a series of vessels of varying diameters\\n(arteries, veins and capillaries).\\n4.1.2\\nSymmetry\\nAnimals can be categorised on the basis of their\\nsymmetry. Sponges are mostly  asymmetrical,\\ni.e., any plane that passes through the centre\\ndoes not divide them into equal halves. When\\nany plane passing through the central axis of\\nthe body divides the organism into two identical\\nhalves, it is called radial symmetry.\\nCoelenterates, ctenophores and echinoderms\\nhave this kind of body plan (Figure 4.1a).\\nAnimals like annelids, arthropods, etc., where\\nthe body can be divided into identical left and\\nright halves in only one plane, exhibit bilateral\\nsymmetry (Figure 4.1b).\\n4.1.3\\nDiploblastic and Triploblastic\\nOrganisation\\nAnimals in which the cells are arranged in two\\nembryonic layers, an external ectoderm and\\nan internal endoderm, are called diploblastic\\nanimals, e.g., coelenterates. An undifferentiated\\nlayer, mesoglea, is present in between the\\nectoderm and the endoderm (Figure 4.2a).'"
      ]
     },
     "execution_count": 18,
     "metadata": {},
     "output_type": "execute_result"
    }
   ],
   "source": [
    "text_chunks[1]"
   ]
  },
  {
   "cell_type": "code",
   "execution_count": 19,
   "metadata": {},
   "outputs": [],
   "source": [
    "from llama_index.schema import TextNode"
   ]
  },
  {
   "cell_type": "code",
   "execution_count": 20,
   "metadata": {},
   "outputs": [],
   "source": [
    "nodes = []\n",
    "for idx, text_chunk in enumerate(text_chunks):\n",
    "    node = TextNode(\n",
    "        text=text_chunk,\n",
    "    )\n",
    "    src_doc_idx = doc_idxs[idx]\n",
    "    src_page = doc[src_doc_idx]\n",
    "    nodes.append(node)"
   ]
  },
  {
   "cell_type": "code",
   "execution_count": 21,
   "metadata": {},
   "outputs": [
    {
     "name": "stdout",
     "output_type": "stream",
     "text": [
      "ANIMAL KINGDOM\n",
      "37\n",
      "37\n",
      "When you look around, you will observe different animals with different\n",
      "structures and forms.  As over a million species of animals have been\n",
      "described till now, the need for classification becomes all the more\n",
      "important. The classification also helps in assigning a systematic position\n",
      "to newly described species.\n",
      "4.1\n",
      "BASIS OF CLASSIFICATION\n",
      "Inspite of differences in structure and form of different animals, there are\n",
      "fundamental features common to various individuals in relation to the\n",
      "arrangement of cells, body symmetry, nature of coelom, patterns of\n",
      "digestive, circulatory or reproductive systems. These features are used\n",
      "as the basis of animal classification and some of them are discussed here.\n",
      "4.1.1\n",
      "Levels of Organisation\n",
      "Though all members of Animalia are multicellular, all of them do not\n",
      "exhibit the same pattern of organisation of cells. For example, in sponges,\n",
      "the cells are arranged as loose cell aggregates, i.e., they exhibit cellular\n",
      "level of organisation. Some division of labour (activities) occur among\n",
      "the cells. In coelenterates, the arrangement of cells is more complex. Here\n",
      "the cells performing the same function are arranged into tissues, hence is\n",
      "called tissue level of organisation. A still higher level of organisation, i.e.,\n",
      "organ level is exhibited by members of Platyhelminthes and other higher\n",
      "phyla where tissues are grouped together to form organs, each specialised\n",
      "for a particular function. In animals like Annelids, Arthropods, Molluscs,\n",
      "ANIMAL KINGDOM\n",
      "CHAPTER  4\n",
      "4.1 Basis of\n",
      "Classification\n",
      "4.2 Classification of\n",
      "Animals\n",
      "Rationalised 2023-24\n"
     ]
    }
   ],
   "source": [
    "# print a sample node\n",
    "print(nodes[0].get_content(metadata_mode=\"all\"))"
   ]
  },
  {
   "cell_type": "code",
   "execution_count": 22,
   "metadata": {},
   "outputs": [],
   "source": [
    "from llama_index.llms import AzureOpenAI\n",
    "llm = AzureOpenAI(\n",
    "    model=\"gpt-35-turbo\",\n",
    "    deployment_name=deployment_id_gpt4,\n",
    "    api_key=key,\n",
    "    azure_endpoint=endpoint,\n",
    "    api_version=api_version,\n",
    ")"
   ]
  },
  {
   "cell_type": "code",
   "execution_count": 23,
   "metadata": {},
   "outputs": [
    {
     "name": "stderr",
     "output_type": "stream",
     "text": [
      "100%|██████████| 76.7M/76.7M [00:01<00:00, 74.8MiB/s]\n"
     ]
    }
   ],
   "source": [
    "from llama_index.embeddings import FastEmbedEmbedding\n",
    "\n",
    "embed_model = FastEmbedEmbedding()"
   ]
  },
  {
   "cell_type": "code",
   "execution_count": 24,
   "metadata": {},
   "outputs": [],
   "source": [
    "for node in nodes:\n",
    "    node_embedding = embed_model.get_text_embedding(\n",
    "        node.get_content(metadata_mode=\"all\")\n",
    "    )\n",
    "    node.embedding = node_embedding"
   ]
  },
  {
   "cell_type": "code",
   "execution_count": 25,
   "metadata": {},
   "outputs": [
    {
     "data": {
      "text/plain": [
       "TextNode(id_='ce5ca700-9386-41d4-bdc9-0e000109129d', embedding=[0.02532103843986988, -0.08833573758602142, 0.05898318812251091, 0.0230718906968832, 0.006325772497802973, -0.03777813911437988, 0.062266502529382706, 0.02586042694747448, 0.008824646472930908, -0.0079966364428401, 0.01953330636024475, -0.07548432797193527, 0.009533827193081379, 0.011860290542244911, -0.01795472390949726, -0.021964941173791885, -0.03232721611857414, -0.009092910215258598, -0.061388444155454636, -0.01771245338022709, 0.027266161516308784, 0.00749569246545434, -0.027672940865159035, 0.0004405907529871911, -0.019668763503432274, 0.026303377002477646, -0.007223743014037609, 0.006526193581521511, -0.006719112861901522, -0.16052696108818054, -0.022231774404644966, 0.028223862871527672, 0.04432719573378563, 0.024357695132493973, -0.004855444189161062, 0.011562543921172619, 0.027013052254915237, -0.013572984375059605, -0.0227205790579319, 0.06573811918497086, 0.013253437355160713, -0.0399031825363636, 0.04542773589491844, 0.0038158115930855274, 0.013227054849267006, 0.013324931263923645, -0.025774773210287094, -0.04384408891201019, -0.002927632536739111, -0.036684129387140274, 0.008631120435893536, -0.07064315676689148, -0.02049536630511284, 0.04459984973073006, -0.009154420346021652, 0.0008159034186974168, 0.039895493537187576, 0.03974953293800354, 0.07661935687065125, -0.02814425155520439, 0.06841482222080231, 0.02811959758400917, -0.09379695355892181, 0.07602033019065857, 0.06291262805461884, 0.006730508990585804, -0.052065785974264145, -0.040539778769016266, 0.023793326690793037, 0.022765856236219406, -0.016696268692612648, -0.043931860476732254, 0.05886927619576454, -0.04167504236102104, -0.025915537029504776, -0.04849475249648094, -0.020727703347802162, -0.006428397726267576, -0.049246713519096375, -0.009818241000175476, -0.006955279503017664, 0.03444299101829529, 0.003503670683130622, -0.03326113522052765, -0.011514367535710335, 0.009061821736395359, 0.017929960042238235, -0.058448825031518936, -0.033976148813962936, 0.03213093802332878, -0.026528680697083473, 0.0018418204272165895, 0.00679773511365056, 0.013843092136085033, -0.03524518385529518, -0.0024520999286323786, 0.016771040856838226, -0.015059705823659897, 0.07314519584178925, 0.3294871747493744, -0.06905638426542282, 0.01196582242846489, 0.042162612080574036, 0.027783874422311783, 0.007717425469309092, 0.018225304782390594, -0.012538675218820572, 0.03389248624444008, -0.022228654474020004, 0.08343382179737091, -0.034248236566782, 0.022461583837866783, -0.06505784392356873, 0.022705983370542526, -0.03364946320652962, -0.0951891541481018, -0.020574359223246574, 0.025195010006427765, 0.01679852232336998, -0.022595930844545364, 0.02418786846101284, -0.05119113624095917, 0.02918003685772419, 0.0021157083101570606, 0.07135139405727386, 0.06630335003137589, 0.006010581739246845, 0.026032796129584312, 0.08019518107175827, -0.058667730540037155, 0.04600871726870537, 0.030790207907557487, -0.04537922888994217, -0.021597903221845627, 0.01889616809785366, -0.0054580760188400745, 0.02105674333870411, -0.02074127458035946, -0.005751842632889748, -0.034112803637981415, -0.04065509885549545, -0.07166773825883865, 0.03566500172019005, -0.05398926883935928, -0.07196330279111862, 0.1308755725622177, 0.01333912368863821, 0.003320473711937666, -0.08774402737617493, 0.03440586104989052, -0.030937138944864273, 0.005316982511430979, 0.010939807631075382, -0.004676496144384146, -0.02161543257534504, 0.029253831133246422, -0.03381644934415817, 0.020557647570967674, -0.02529098093509674, -0.058771517127752304, -0.030167629942297935, 0.04637667164206505, -0.03243524208664894, 0.11493125557899475, 0.09453526884317398, -0.0746033638715744, -0.019039273262023926, -0.019371386617422104, -0.005105357151478529, -0.05665944144129753, -0.0020797669421881437, 0.030615970492362976, -0.021679271012544632, 0.06838416308164597, -0.009630090557038784, -0.010295810177922249, -0.05158789083361626, -0.014451866038143635, 0.024408400058746338, 0.014855739660561085, 0.09786505997180939, -0.012451259419322014, -0.03812239691615105, -0.012847119942307472, 0.05842520669102669, 0.027063019573688507, -0.11116711050271988, 0.05022295564413071, 0.023478997871279716, 0.05162498727440834, 0.017553819343447685, 0.04078466072678566, 0.03709757700562477, -0.04131992906332016, -0.059899989515542984, -0.028471389785408974, 0.01874820701777935, 0.007923539727926254, -0.03083738498389721, 0.017380349338054657, -0.004765466786921024, 0.010241405107080936, 0.04352158308029175, 0.03494173288345337, -0.00152165861800313, 0.006547120865434408, 0.06405404955148697, 0.033126287162303925, 0.03186023235321045, 0.0043224552646279335, -0.08156989514827728, -0.0040498943999409676, -0.06572644412517548, 0.022500628605484962, -0.01722123473882675, 0.03525952249765396, 0.029257511720061302, -0.07536626607179642, 0.01267070323228836, 0.017844200134277344, 0.044661279767751694, -0.0982627123594284, 0.0046846093609929085, -0.30573105812072754, -0.03213789686560631, -0.013977166265249252, -0.025944598019123077, 0.012486862018704414, -0.002127260435372591, 0.040943071246147156, 0.007562634069472551, -0.029857873916625977, 0.01849422976374626, 0.04155958816409111, 0.03040274977684021, -0.034846868366003036, -0.022040201351046562, -0.0007026449893601239, 0.0696638897061348, 0.039247315376996994, -0.07350866496562958, -0.06336699426174164, 0.007235135417431593, 0.038081247359514236, 0.005869124084711075, 0.03318242356181145, -0.01555588562041521, 0.02319430001080036, 0.04599836468696594, 0.11680687218904495, -0.0502159520983696, 0.011356018483638763, 0.03158465027809143, 0.014633466489613056, -0.008459428325295448, -0.06914841383695602, -0.07247054576873779, 0.04126926511526108, -0.038977280259132385, -0.05156226456165314, -0.11104565858840942, -0.01434127427637577, -0.056235313415527344, 0.007830929011106491, 0.0015509038930758834, 0.01833948865532875, -0.034196533262729645, -0.02121100015938282, 0.04051440581679344, -0.023430615663528442, 0.040295496582984924, -0.013311422429978848, -0.08057652413845062, -0.010937575250864029, 0.011528746224939823, -0.035563237965106964, 0.061629921197891235, -0.045720942318439484, 0.015264098532497883, -0.035940203815698624, -0.03647775575518608, -0.05763808637857437, 0.05945209041237831, 0.028198817744851112, -0.03400033712387085, -0.01976669766008854, -0.0006816270179115236, -0.01473990734666586, 0.0020721801556646824, -0.06355225294828415, 0.043099675327539444, 0.04381842166185379, -0.027675297111272812, 0.0336860828101635, 0.08032543957233429, 0.03990253433585167, -0.03827637434005737, 0.03161130100488663, -0.034729618579149246, 0.0068346005864441395, 0.03086371347308159, 0.01597815938293934, -0.020986147224903107, 0.021991265937685966, -0.07818075269460678, 0.03863184526562691, 0.012560354545712471, 0.042987845838069916, 0.07694119215011597, 0.008856448344886303, -0.005888620391488075, 0.06559617072343826, -2.2713029466103762e-05, -0.0043094283901154995, -0.007214859593659639, -0.0053628128953278065, -0.003149554831907153, -0.02542480267584324, 0.06108824908733368, -0.2654719650745392, 0.02148240990936756, 0.05587777867913246, 0.07026475667953491, 0.01666337437927723, 0.019525989890098572, 0.01076322328299284, -0.061238840222358704, 0.02248527854681015, -0.006433215923607349, 0.05861905217170715, -0.0010842152405530214, 0.04147791489958763, -0.011216860264539719, -0.018923988565802574, 0.04891819879412651, 0.05689365789294243, -0.06199939176440239, 0.02780810371041298, -0.024866411462426186, 0.04241503030061722, -0.012399915605783463, 0.19469104707241058, -0.045661646872758865, 0.030449053272604942, -0.005060260649770498, 0.020012253895401955, 0.026721511036157608, -0.04717342555522919, -0.002164047909900546, 0.10783886909484863, -0.03842094913125038, 0.06133395805954933, -0.04174745827913284, -0.04936618357896805, 0.03518154099583626, 0.053087297827005386, -0.017467955127358437, 0.023830704391002655, 0.004862550180405378, 0.010006551630795002, -0.04158545285463333, -0.06614111363887787, -0.061967603862285614, 0.06118739768862724, 0.004295183811336756, -0.04187368229031563, -0.030507415533065796, 0.055154092609882355, 0.016111869364976883, -0.08502934873104095, -0.062060870230197906, -0.05325588583946228, 0.050460513681173325, 0.012843838892877102, 0.03225267678499222, 0.03679220750927925, 0.005102688446640968, -0.023440910503268242, -0.02627589739859104, 0.05458158627152443, -0.054659370332956314, -0.016524288803339005, 0.12227317690849304, -0.005108098033815622], metadata={}, excluded_embed_metadata_keys=[], excluded_llm_metadata_keys=[], relationships={}, text='ANIMAL KINGDOM\\n37\\n37\\nWhen you look around, you will observe different animals with different\\nstructures and forms.  As over a million species of animals have been\\ndescribed till now, the need for classification becomes all the more\\nimportant. The classification also helps in assigning a systematic position\\nto newly described species.\\n4.1\\nBASIS OF CLASSIFICATION\\nInspite of differences in structure and form of different animals, there are\\nfundamental features common to various individuals in relation to the\\narrangement of cells, body symmetry, nature of coelom, patterns of\\ndigestive, circulatory or reproductive systems. These features are used\\nas the basis of animal classification and some of them are discussed here.\\n4.1.1\\nLevels of Organisation\\nThough all members of Animalia are multicellular, all of them do not\\nexhibit the same pattern of organisation of cells. For example, in sponges,\\nthe cells are arranged as loose cell aggregates, i.e., they exhibit cellular\\nlevel of organisation. Some division of labour (activities) occur among\\nthe cells. In coelenterates, the arrangement of cells is more complex. Here\\nthe cells performing the same function are arranged into tissues, hence is\\ncalled tissue level of organisation. A still higher level of organisation, i.e.,\\norgan level is exhibited by members of Platyhelminthes and other higher\\nphyla where tissues are grouped together to form organs, each specialised\\nfor a particular function. In animals like Annelids, Arthropods, Molluscs,\\nANIMAL KINGDOM\\nCHAPTER  4\\n4.1 Basis of\\nClassification\\n4.2 Classification of\\nAnimals\\nRationalised 2023-24', start_char_idx=None, end_char_idx=None, text_template='{metadata_str}\\n\\n{content}', metadata_template='{key}: {value}', metadata_seperator='\\n')"
      ]
     },
     "execution_count": 25,
     "metadata": {},
     "output_type": "execute_result"
    }
   ],
   "source": [
    "nodes[0]"
   ]
  },
  {
   "cell_type": "code",
   "execution_count": 26,
   "metadata": {},
   "outputs": [
    {
     "data": {
      "text/plain": [
       "['ce5ca700-9386-41d4-bdc9-0e000109129d',\n",
       " '8a60c7ca-ed74-4f08-9a89-78ce25e5602c',\n",
       " '32559caa-f9bc-405b-8c4a-305548a7d1e9',\n",
       " 'f4fdef20-4265-4585-b3af-3c54e1273ccd',\n",
       " '47ed22b5-e547-4fdc-82c4-0bd1166b03b3',\n",
       " '97e5fc55-6d69-48c0-ab20-e8e1def8f353',\n",
       " '727f2990-20da-4472-a58d-aa716bb0ab7f',\n",
       " 'ab3ad19c-66c9-4876-83e3-f83fb9a5a4fe',\n",
       " 'a4aefa13-edf9-4111-8f26-5ccd3ee31511',\n",
       " '886448d3-f242-41b8-a6d3-bc8d293e4def',\n",
       " '8c891e2f-5e9d-4d3e-9f93-16c25b2a4195',\n",
       " '3e96efdc-505b-4d3f-907a-0b61ebeac67c',\n",
       " '41e1d6e0-6010-44a6-a937-e2e61452fdc6',\n",
       " 'a8ca5712-7abd-4d81-9d1b-64e5d336adc0',\n",
       " 'a116d268-4809-46d9-a53f-693fde7cc836',\n",
       " '4f11df51-fea8-455d-8f88-f34f9b242ccf',\n",
       " '621e1496-46c1-45f8-9cde-7257f9408d68',\n",
       " '571ff50c-d0eb-44ca-a5cc-7eb270e4bf5e',\n",
       " 'b7478719-6b05-4945-bc47-90971cd606dc',\n",
       " 'ee98e522-f64f-4b3f-990d-2006aeaa5d77',\n",
       " 'bea5e84f-6ec0-4a18-91b4-db8bac438fab',\n",
       " 'be88c2eb-0816-4d64-8f2e-73be8c556ba7',\n",
       " 'c7bdd709-be76-410c-b4d3-8969682f9b1e',\n",
       " 'b441f741-3006-4b02-a874-6623639415e4',\n",
       " '4208f856-48c5-47e1-a45e-d7cdc957c0d0',\n",
       " '3ebe796b-7876-47a6-bfe5-cbf52b05e326',\n",
       " 'a2158170-73f1-4578-bdad-512b703c8dbd',\n",
       " '31eefe7b-eb06-4e33-bc8c-c77470b9598d',\n",
       " '98b6c8c7-92d3-490f-9bc9-b6566c6c3a43']"
      ]
     },
     "execution_count": 26,
     "metadata": {},
     "output_type": "execute_result"
    }
   ],
   "source": [
    "vector_store.add(nodes)"
   ]
  },
  {
   "cell_type": "code",
   "execution_count": 27,
   "metadata": {},
   "outputs": [],
   "source": [
    "from llama_index import VectorStoreIndex,ServiceContext\n",
    "from llama_index.storage import StorageContext"
   ]
  },
  {
   "cell_type": "code",
   "execution_count": 28,
   "metadata": {},
   "outputs": [],
   "source": [
    "service_context = ServiceContext.from_defaults(llm=llm,embed_model=embed_model)"
   ]
  },
  {
   "cell_type": "code",
   "execution_count": 29,
   "metadata": {},
   "outputs": [],
   "source": [
    "index = VectorStoreIndex.from_vector_store(service_context=service_context,vector_store=vector_store)"
   ]
  },
  {
   "cell_type": "code",
   "execution_count": 30,
   "metadata": {},
   "outputs": [],
   "source": [
    "query_engine = index.as_query_engine()"
   ]
  },
  {
   "cell_type": "code",
   "execution_count": 31,
   "metadata": {},
   "outputs": [],
   "source": [
    "query = \"What is Diploblastic and Triploblastic Organisation?\""
   ]
  },
  {
   "cell_type": "code",
   "execution_count": 32,
   "metadata": {},
   "outputs": [
    {
     "name": "stderr",
     "output_type": "stream",
     "text": [
      "huggingface/tokenizers: The current process just got forked, after parallelism has already been used. Disabling parallelism to avoid deadlocks...\n",
      "To disable this warning, you can either:\n",
      "\t- Avoid using `tokenizers` before the fork if possible\n",
      "\t- Explicitly set the environment variable TOKENIZERS_PARALLELISM=(true | false)\n"
     ]
    }
   ],
   "source": [
    "response = query_engine.query(query)"
   ]
  },
  {
   "cell_type": "code",
   "execution_count": 33,
   "metadata": {},
   "outputs": [
    {
     "name": "stdout",
     "output_type": "stream",
     "text": [
      "> Source (Doc id: 32559caa-f9bc-405b-8c4a-305548a7d1e9): When\n",
      "any plane passing through the central axis of\n",
      "the body divides the organism into two identic...\n",
      "\n",
      "> Source (Doc id: 8a60c7ca-ed74-4f08-9a89-78ce25e5602c): 38\n",
      "BIOLOGY\n",
      "Echinoderms and Chordates, organs have\n",
      "associated to form functional systems, each\n",
      "sys...\n",
      "query was: What is Diploblastic and Triploblastic Organisation?\n",
      "answer was: Animals can be categorised based on the arrangement of their cells in embryonic layers. Diploblastic animals have two embryonic layers - an external ectoderm and an internal endoderm, with an undifferentiated layer called mesoglea present in between. Coelenterates are examples of diploblastic animals. In contrast, triploblastic animals have three embryonic layers - ectoderm, mesoderm, and endoderm. Animals like echinoderms and chordates exhibit triploblastic organisation, where organs are associated to form functional systems.\n"
     ]
    }
   ],
   "source": [
    "print(response.get_formatted_sources())\n",
    "print(\"query was:\", query)\n",
    "print(\"answer was:\", response)"
   ]
  },
  {
   "cell_type": "code",
   "execution_count": 34,
   "metadata": {},
   "outputs": [],
   "source": [
    "from pprint import pprint"
   ]
  },
  {
   "cell_type": "code",
   "execution_count": 35,
   "metadata": {},
   "outputs": [
    {
     "name": "stdout",
     "output_type": "stream",
     "text": [
      "('Animals can be categorised based on the arrangement of their cells in '\n",
      " 'embryonic layers. Diploblastic animals have two embryonic layers - an '\n",
      " 'external ectoderm and an internal endoderm, with an undifferentiated layer '\n",
      " 'called mesoglea present in between. Coelenterates are examples of '\n",
      " 'diploblastic animals. In contrast, triploblastic animals have three '\n",
      " 'embryonic layers - ectoderm, mesoderm, and endoderm. Animals like '\n",
      " 'echinoderms and chordates exhibit triploblastic organisation, where organs '\n",
      " 'are associated to form functional systems.')\n"
     ]
    }
   ],
   "source": [
    "pprint(str(response))"
   ]
  },
  {
   "cell_type": "code",
   "execution_count": null,
   "metadata": {},
   "outputs": [],
   "source": []
  }
 ],
 "metadata": {
  "kernelspec": {
   "display_name": "env",
   "language": "python",
   "name": "python3"
  },
  "language_info": {
   "codemirror_mode": {
    "name": "ipython",
    "version": 3
   },
   "file_extension": ".py",
   "mimetype": "text/x-python",
   "name": "python",
   "nbconvert_exporter": "python",
   "pygments_lexer": "ipython3",
   "version": "3.8.10"
  }
 },
 "nbformat": 4,
 "nbformat_minor": 2
}

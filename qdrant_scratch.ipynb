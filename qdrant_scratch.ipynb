{
 "cells": [
  {
   "cell_type": "code",
   "execution_count": 1,
   "metadata": {},
   "outputs": [],
   "source": [
    "from llama_index.vector_stores.qdrant import QdrantVectorStore\n",
    "from qdrant_client import QdrantClient\n",
    "from config import *\n",
    "from pprint import pprint"
   ]
  },
  {
   "cell_type": "code",
   "execution_count": 2,
   "metadata": {},
   "outputs": [],
   "source": [
    "client = QdrantClient(URL,port=6333)"
   ]
  },
  {
   "cell_type": "code",
   "execution_count": 3,
   "metadata": {},
   "outputs": [],
   "source": [
    "vector_store = QdrantVectorStore(client=client, collection_name=COLLECTION_NAME)"
   ]
  },
  {
   "cell_type": "code",
   "execution_count": 4,
   "metadata": {},
   "outputs": [],
   "source": [
    "import fitz"
   ]
  },
  {
   "cell_type": "code",
   "execution_count": 5,
   "metadata": {},
   "outputs": [],
   "source": [
    "doc = fitz.open(DIR_PATH + \"/CHAP04-BIOLOGY-CLASS11.pdf\")"
   ]
  },
  {
   "cell_type": "code",
   "execution_count": 6,
   "metadata": {},
   "outputs": [],
   "source": [
    "from llama_index.node_parser import SentenceSplitter"
   ]
  },
  {
   "cell_type": "code",
   "execution_count": 7,
   "metadata": {},
   "outputs": [],
   "source": [
    "text_splitter = SentenceSplitter(\n",
    "    chunk_size=512\n",
    ")"
   ]
  },
  {
   "cell_type": "code",
   "execution_count": 8,
   "metadata": {},
   "outputs": [],
   "source": [
    "text_chunks = []\n",
    "# maintain relationship with source doc index, to help inject doc metadata in (3)\n",
    "doc_idxs = []\n",
    "for doc_idx, page in enumerate(doc):\n",
    "    page_text = page.get_text(\"text\")\n",
    "    cur_text_chunks = text_splitter.split_text(page_text)\n",
    "    text_chunks.extend(cur_text_chunks)\n",
    "    doc_idxs.extend([doc_idx] * len(cur_text_chunks))"
   ]
  },
  {
   "cell_type": "code",
   "execution_count": 9,
   "metadata": {},
   "outputs": [
    {
     "data": {
      "text/plain": [
       "29"
      ]
     },
     "execution_count": 9,
     "metadata": {},
     "output_type": "execute_result"
    }
   ],
   "source": [
    "len(doc_idxs)"
   ]
  },
  {
   "cell_type": "code",
   "execution_count": 11,
   "metadata": {},
   "outputs": [
    {
     "name": "stdout",
     "output_type": "stream",
     "text": [
      "('38\\n'\n",
      " 'BIOLOGY\\n'\n",
      " 'Echinoderms and Chordates, organs have\\n'\n",
      " 'associated to form functional systems, each\\n'\n",
      " 'system concerned with a specific physiological\\n'\n",
      " 'function. This pattern is called organ system\\n'\n",
      " 'level of organisation. Organ systems in different\\n'\n",
      " 'groups of animals exhibit various patterns of\\n'\n",
      " 'complexities. For example, the digestive system\\n'\n",
      " 'in Platyhelminthes has only a single opening\\n'\n",
      " 'to the outside of the body that serves as both\\n'\n",
      " 'mouth and anus, and is hence called\\n'\n",
      " 'incomplete. A complete digestive system has\\n'\n",
      " 'two openings, mouth and anus. Similarly, the\\n'\n",
      " 'circulatory system may be of two types:\\n'\n",
      " '(i) open type in which the blood is pumped\\n'\n",
      " 'out of the heart and the cells and tissues are\\n'\n",
      " 'directly bathed in it and\\n'\n",
      " '(ii) closed type in which the blood is circulated\\n'\n",
      " 'through a series of vessels of varying diameters\\n'\n",
      " '(arteries, veins and capillaries).\\n'\n",
      " '4.1.2\\n'\n",
      " 'Symmetry\\n'\n",
      " 'Animals can be categorised on the basis of their\\n'\n",
      " 'symmetry. Sponges are mostly  asymmetrical,\\n'\n",
      " 'i.e., any plane that passes through the centre\\n'\n",
      " 'does not divide them into equal halves. When\\n'\n",
      " 'any plane passing through the central axis of\\n'\n",
      " 'the body divides the organism into two identical\\n'\n",
      " 'halves, it is called radial symmetry.\\n'\n",
      " 'Coelenterates, ctenophores and echinoderms\\n'\n",
      " 'have this kind of body plan (Figure 4.1a).\\n'\n",
      " 'Animals like annelids, arthropods, etc., where\\n'\n",
      " 'the body can be divided into identical left and\\n'\n",
      " 'right halves in only one plane, exhibit bilateral\\n'\n",
      " 'symmetry (Figure 4.1b).\\n'\n",
      " '4.1.3\\n'\n",
      " 'Diploblastic and Triploblastic\\n'\n",
      " 'Organisation\\n'\n",
      " 'Animals in which the cells are arranged in two\\n'\n",
      " 'embryonic layers, an external ectoderm and\\n'\n",
      " 'an internal endoderm, are called diploblastic\\n'\n",
      " 'animals, e.g., coelenterates. An undifferentiated\\n'\n",
      " 'layer, mesoglea, is present in between the\\n'\n",
      " 'ectoderm and the endoderm (Figure 4.2a).')\n"
     ]
    }
   ],
   "source": [
    "pprint(text_chunks[1])"
   ]
  },
  {
   "cell_type": "code",
   "execution_count": 12,
   "metadata": {},
   "outputs": [],
   "source": [
    "from llama_index.schema import TextNode"
   ]
  },
  {
   "cell_type": "code",
   "execution_count": 13,
   "metadata": {},
   "outputs": [],
   "source": [
    "nodes = []\n",
    "for idx, text_chunk in enumerate(text_chunks):\n",
    "    node = TextNode(\n",
    "        text=text_chunk,\n",
    "    )\n",
    "    src_doc_idx = doc_idxs[idx]\n",
    "    src_page = doc[src_doc_idx]\n",
    "    nodes.append(node)"
   ]
  },
  {
   "cell_type": "code",
   "execution_count": 14,
   "metadata": {},
   "outputs": [],
   "source": [
    "from llama_index.llms import AzureOpenAI\n",
    "llm = AzureOpenAI(\n",
    "    model=\"gpt-35-turbo\",\n",
    "    deployment_name=deployment_id_gpt4,\n",
    "    api_key=key,\n",
    "    azure_endpoint=endpoint,\n",
    "    api_version=api_version,\n",
    ")"
   ]
  },
  {
   "cell_type": "code",
   "execution_count": 15,
   "metadata": {},
   "outputs": [],
   "source": [
    "from llama_index.extractors import (\n",
    "    QuestionsAnsweredExtractor,\n",
    "    TitleExtractor,\n",
    ")\n",
    "from llama_index.ingestion import IngestionPipeline\n",
    "\n",
    "extractors = [\n",
    "    TitleExtractor(nodes=5, llm=llm),\n",
    "    QuestionsAnsweredExtractor(questions=3, llm=llm),\n",
    "]"
   ]
  },
  {
   "cell_type": "code",
   "execution_count": 16,
   "metadata": {},
   "outputs": [
    {
     "name": "stderr",
     "output_type": "stream",
     "text": [
      "100%|██████████| 5/5 [00:01<00:00,  4.72it/s]\n",
      "100%|██████████| 29/29 [00:13<00:00,  2.11it/s]\n"
     ]
    }
   ],
   "source": [
    "pipeline = IngestionPipeline(\n",
    "    transformations=extractors,\n",
    ")\n",
    "nodes = await pipeline.arun(nodes=nodes, in_place=False)"
   ]
  },
  {
   "cell_type": "code",
   "execution_count": 17,
   "metadata": {},
   "outputs": [
    {
     "name": "stdout",
     "output_type": "stream",
     "text": [
      "{'document_title': 'Fundamentals of Animal Classification: From Levels of '\n",
      "                   'Organisation to Phylum Porifera',\n",
      " 'questions_this_excerpt_can_answer': '1. What are the fundamental features '\n",
      "                                      'used as the basis of animal '\n",
      "                                      'classification?\\n'\n",
      "                                      '2. How do different animals exhibit '\n",
      "                                      'different levels of organization of '\n",
      "                                      'cells?\\n'\n",
      "                                      '3. Why is classification important in '\n",
      "                                      'the study of animals and how does it '\n",
      "                                      'help in assigning a systematic position '\n",
      "                                      'to newly described species? \\n'\n",
      "                                      '\\n'\n",
      "                                      'Higher-level summary: This excerpt '\n",
      "                                      'discusses the basis of animal '\n",
      "                                      'classification and the different levels '\n",
      "                                      'of organization of cells exhibited by '\n",
      "                                      'different animals. It also highlights '\n",
      "                                      'the importance of classification in '\n",
      "                                      'assigning a systematic position to '\n",
      "                                      'newly described species.'}\n"
     ]
    }
   ],
   "source": [
    "pprint(nodes[0].metadata)"
   ]
  },
  {
   "cell_type": "code",
   "execution_count": 18,
   "metadata": {},
   "outputs": [
    {
     "name": "stderr",
     "output_type": "stream",
     "text": [
      "100%|██████████| 76.7M/76.7M [00:01<00:00, 66.0MiB/s]\n"
     ]
    }
   ],
   "source": [
    "from llama_index.embeddings import FastEmbedEmbedding\n",
    "\n",
    "embed_model = FastEmbedEmbedding()"
   ]
  },
  {
   "cell_type": "code",
   "execution_count": 19,
   "metadata": {},
   "outputs": [],
   "source": [
    "for node in nodes:\n",
    "    node_embedding = embed_model.get_text_embedding(\n",
    "        node.get_content(metadata_mode=\"all\")\n",
    "    )\n",
    "    node.embedding = node_embedding"
   ]
  },
  {
   "cell_type": "code",
   "execution_count": 20,
   "metadata": {},
   "outputs": [
    {
     "name": "stdout",
     "output_type": "stream",
     "text": [
      "TextNode(id_='7e503a5d-078d-4b32-bfe7-a33e79dc4000', embedding=[0.02657456137239933, -0.042736079543828964, 0.027832886204123497, 0.012503774836659431, 0.02205989882349968, -0.01876184530556202, 0.07691063731908798, 0.03886473923921585, 0.021060079336166382, 0.016123531386256218, 0.035125140100717545, -0.07436162233352661, 0.005483281332999468, -0.0019588121213018894, -0.04246576875448227, -0.02140616998076439, -0.03559023141860962, -0.002127237617969513, -0.04538920521736145, -0.0218068677932024, 0.03331537917256355, -0.003251616610214114, -0.0417177639901638, 0.0018559462623670697, -0.003484701504930854, 0.018791688606142998, -0.024753045290708542, -0.013792507350444794, -0.011626145802438259, -0.2150440663099289, -0.02067537046968937, 0.021727435290813446, 0.05008382722735405, 0.014523151330649853, -0.0101810647174716, 0.028320742771029472, 0.034344788640737534, -0.016332436352968216, -0.0020065982826054096, 0.0620521679520607, 0.022378506138920784, -0.024644896388053894, -0.0019384616753086448, 0.0036672845017164946, 0.022490456700325012, 0.020006690174341202, -0.02105942741036415, -0.05774211138486862, -0.008938906714320183, -0.0298067107796669, 0.021693604066967964, -0.07449246197938919, -0.020130563527345657, 0.049321793019771576, -0.021887153387069702, 0.028007348999381065, 0.05816518887877464, 0.04690095782279968, 0.054222218692302704, 0.003943204414099455, 0.08217720687389374, 0.030205396935343742, -0.10731733590364456, 0.06261017173528671, 0.05177122727036476, -0.009621260687708855, -0.07848184555768967, -0.037965621799230576, 0.035876087844371796, 0.03137560561299324, -0.013300140388309956, -0.031831156462430954, 0.054863668978214264, -0.02274429425597191, -0.005325741600245237, -0.04067828133702278, -0.019919537007808685, -0.012985672801733017, -0.03723861649632454, -0.03666039556264877, 0.009078135713934898, 0.029860036447644234, 0.021937048062682152, -0.015128630213439465, -0.0038680569268763065, 0.0008358101476915181, 0.014149760827422142, -0.07256904989480972, -0.017827169969677925, 0.01662900485098362, -0.006951546762138605, -0.008681265637278557, -0.01756388321518898, 0.011409998871386051, -0.034653931856155396, -0.00497541856020689, 0.03169518709182739, -0.03248362988233566, 0.06030069291591644, 0.3431509733200073, -0.06970791518688202, 0.015517313964664936, 0.02119908481836319, 0.01171120535582304, 0.033082615584135056, 0.02272653579711914, 0.011112494394183159, 0.012448831461369991, -0.006760824471712112, 0.08115096390247345, -0.023745940998196602, 0.022433100268244743, -0.07933767884969711, 0.022585293278098106, -0.032650623470544815, -0.08489061892032623, -0.024942463263869286, 0.02155778743326664, 0.029530348256230354, -0.015848366543650627, 0.024560824036598206, -0.05960855633020401, 0.013681461103260517, -0.019925687462091446, 0.08688174933195114, 0.0437692292034626, 0.0032753769773989916, 0.025280321016907692, 0.07918497920036316, -0.04615016654133797, 0.06965150684118271, 0.01690298691391945, -0.024584418162703514, -0.02213568612933159, 0.008357523940503597, 0.003968375269323587, 0.03139257803559303, -0.005794721655547619, -0.010611598379909992, -0.023170264437794685, -0.03485456854104996, -0.06192949414253235, 0.04487404599785805, -0.02874983847141266, -0.07418332993984222, 0.14688268303871155, 0.006600069813430309, -0.0022000351455062628, -0.0702422559261322, 0.008973773568868637, -0.03641020506620407, -0.0078146792948246, -0.007376863621175289, -0.0002465166326146573, -0.032504454255104065, 0.014981674961745739, -0.024506203830242157, 0.009003875777125359, -0.032650869339704514, -0.05654402822256088, -0.051677025854587555, 0.029239973053336143, -0.04096286743879318, 0.11556775122880936, 0.10927855968475342, -0.0660722479224205, -0.035969797521829605, -0.025360096246004105, -0.011224961839616299, -0.04286235198378563, 0.010959419421851635, 0.05093668773770332, -0.014960243366658688, 0.046836234629154205, -0.027403278276324272, -0.025725582614541054, -0.04222647100687027, -0.020108569413423538, 0.03378690034151077, 0.021041395142674446, 0.09423833340406418, -0.025368615984916687, -0.04973768815398216, -0.006641078740358353, 0.013925252482295036, 0.014068325981497765, -0.11038921028375626, 0.022533241659402847, 0.0012344479328021407, 0.032674580812454224, 0.0030533585231751204, 0.024932395666837692, 0.029665976762771606, -0.04193459823727608, -0.05826480686664581, -0.022741174325346947, 0.023813752457499504, 0.0326017402112484, -0.02396269328892231, -0.009048985317349434, 0.005079350434243679, 0.005663590040057898, 0.03512603044509888, 0.03168828785419464, -0.0011286120861768723, 0.005537054035812616, 0.06575880199670792, 0.006944828201085329, 0.03379126265645027, 0.007983136922121048, -0.07370411604642868, 0.00723922299221158, -0.07765230536460876, 0.017836762592196465, -0.034277159720659256, 0.010741441510617733, 0.021506836637854576, -0.06116071715950966, 0.027413055300712585, 0.025063425302505493, 0.028134439140558243, -0.07170698791742325, -0.018632374703884125, -0.30182528495788574, -0.04621844366192818, -0.020468683913350105, -0.05203505605459213, 0.003569541033357382, 0.020765526220202446, 0.024769838899374008, -0.005512474104762077, -0.04182560741901398, 0.00814447458833456, 0.06323330104351044, 0.035744719207286835, -0.0422682911157608, -0.05710229277610779, 0.00042096374090760946, 0.06867648661136627, 0.02047187089920044, -0.06488260626792908, -0.04032522439956665, 0.01558598130941391, 0.0180247500538826, 0.017638206481933594, 0.057786744087934494, -0.009622148238122463, 0.003985395189374685, 0.045801904052495956, 0.10473558306694031, -0.037161294370889664, -0.006463092286139727, 0.03735121712088585, 0.0038911248557269573, -0.04014294967055321, -0.06332292407751083, -0.08306259661912918, 0.060155630111694336, -0.03534417599439621, -0.04100396856665611, -0.07251744717359543, 0.0017651922535151243, -0.05438923463225365, 0.015373955480754375, -0.01825576089322567, 0.01365001779049635, -0.021245239302515984, -0.03568344935774803, 0.02399420738220215, -0.0050285253673791885, 0.019083550199866295, 0.007713946048170328, -0.057929687201976776, 0.006185479927808046, 0.030522894114255905, -0.012437859550118446, 0.05700770765542984, -0.04089618846774101, 0.01002721767872572, -0.029616650193929672, -0.011299937963485718, -0.058858051896095276, 0.04066619649529457, 0.034277964383363724, -0.04289110377430916, -0.0025296243838965893, -0.01090281456708908, -0.017282845452427864, 0.006845865398645401, -0.08216076344251633, 0.0427885428071022, 0.033929526805877686, -0.021744320169091225, 0.0314265713095665, 0.10570895671844482, 0.019162699580192566, -0.04467865079641342, 0.049504246562719345, -0.0326269157230854, 0.01764027029275894, 0.029340986162424088, 0.020858513191342354, -0.02237910032272339, -0.010920844972133636, -0.07412330061197281, 0.05259038507938385, 0.03997891768813133, 0.03227970749139786, 0.06128181144595146, 0.05176592990756035, -0.017420263960957527, 0.0646090880036354, 0.009339196607470512, -0.02316509373486042, -0.015279988758265972, -0.008506868965923786, 0.0009547712397761643, -0.006643777713179588, 0.0647343173623085, -0.2761242985725403, 0.020055130124092102, 0.06136775761842728, 0.04713141545653343, 0.04477604106068611, 0.022527916356921196, 0.006248833611607552, -0.07368920743465424, 0.03756506368517876, 0.02051112987101078, 0.055749885737895966, -0.01740560308098793, 0.05447731539607048, -0.008236043155193329, -0.027982115745544434, 0.06152431666851044, 0.07017036527395248, -0.04442404583096504, 0.02711482346057892, -0.00922574196010828, 0.028634613379836082, -0.02654952183365822, 0.19261768460273743, -0.05180526524782181, -0.0017205331241711974, -0.028495078906416893, 0.02079276368021965, 0.05462860316038132, -0.012044518254697323, -0.006070584058761597, 0.09712167084217072, -0.043948695063591, 0.07877667993307114, -0.037163183093070984, -0.04425504431128502, 0.0421501062810421, 0.05775018781423569, -0.024834882467985153, 0.017794761806726456, -0.0015480470610782504, 0.03198697045445442, -0.023344701156020164, -0.05514635890722275, -0.06593139469623566, 0.05937490612268448, -0.0072950031608343124, -0.04147323593497276, -0.03205670416355133, 0.0357009582221508, 0.023961622267961502, -0.07287047058343887, -0.07080993801355362, -0.011632171459496021, 0.039533596485853195, 0.031225692480802536, -0.006968953181058168, 0.023400219157338142, -0.0012735057389363647, -0.029800476506352425, -0.010671443305909634, 0.062206950038671494, -0.04709969088435173, -0.024604709818959236, 0.09964895993471146, 0.03300279378890991], metadata={'document_title': 'Fundamentals of Animal Classification: From Levels of Organisation to Phylum Porifera', 'questions_this_excerpt_can_answer': '1. What are the fundamental features used as the basis of animal classification?\\n2. How do different animals exhibit different levels of organization of cells?\\n3. Why is classification important in the study of animals and how does it help in assigning a systematic position to newly described species? \\n\\nHigher-level summary: This excerpt discusses the basis of animal classification and the different levels of organization of cells exhibited by different animals. It also highlights the importance of classification in assigning a systematic position to newly described species.'}, excluded_embed_metadata_keys=[], excluded_llm_metadata_keys=[], relationships={}, text='ANIMAL KINGDOM\\n37\\n37\\nWhen you look around, you will observe different animals with different\\nstructures and forms.  As over a million species of animals have been\\ndescribed till now, the need for classification becomes all the more\\nimportant. The classification also helps in assigning a systematic position\\nto newly described species.\\n4.1\\nBASIS OF CLASSIFICATION\\nInspite of differences in structure and form of different animals, there are\\nfundamental features common to various individuals in relation to the\\narrangement of cells, body symmetry, nature of coelom, patterns of\\ndigestive, circulatory or reproductive systems. These features are used\\nas the basis of animal classification and some of them are discussed here.\\n4.1.1\\nLevels of Organisation\\nThough all members of Animalia are multicellular, all of them do not\\nexhibit the same pattern of organisation of cells. For example, in sponges,\\nthe cells are arranged as loose cell aggregates, i.e., they exhibit cellular\\nlevel of organisation. Some division of labour (activities) occur among\\nthe cells. In coelenterates, the arrangement of cells is more complex. Here\\nthe cells performing the same function are arranged into tissues, hence is\\ncalled tissue level of organisation. A still higher level of organisation, i.e.,\\norgan level is exhibited by members of Platyhelminthes and other higher\\nphyla where tissues are grouped together to form organs, each specialised\\nfor a particular function. In animals like Annelids, Arthropods, Molluscs,\\nANIMAL KINGDOM\\nCHAPTER  4\\n4.1 Basis of\\nClassification\\n4.2 Classification of\\nAnimals\\nRationalised 2023-24', start_char_idx=None, end_char_idx=None, text_template='[Excerpt from document]\\n{metadata_str}\\nExcerpt:\\n-----\\n{content}\\n-----\\n', metadata_template='{key}: {value}', metadata_seperator='\\n')\n"
     ]
    }
   ],
   "source": [
    "pprint(nodes[0])"
   ]
  },
  {
   "cell_type": "code",
   "execution_count": 21,
   "metadata": {},
   "outputs": [
    {
     "data": {
      "text/plain": [
       "['7e503a5d-078d-4b32-bfe7-a33e79dc4000',\n",
       " 'b806f0dc-a48d-407e-b529-80ffd52102d6',\n",
       " '7d2d5431-af2d-4dc1-a6f7-96330e4cfedc',\n",
       " '1e892134-5aa2-4ead-91ef-39b76ae85ad4',\n",
       " '661caeab-7f3b-40c9-a94f-dea14b88fccc',\n",
       " 'a7528805-84bf-404e-ae66-e3cf804d3f5d',\n",
       " 'bc247bdb-345c-4765-b0f3-a9e10e4ea913',\n",
       " '72b9f87e-2fae-4796-a71a-5a5df6428e0b',\n",
       " 'cf4fb500-9410-4382-ba13-09449d3fe1d2',\n",
       " 'a0d97c56-f38a-48e7-b888-320bc02a9f2d',\n",
       " 'eab2821a-9eea-4339-a47b-a0402b90f904',\n",
       " 'e24c9810-6ad4-4b8b-900d-e4abb2f09641',\n",
       " 'e4e2968d-8182-4d71-83dd-f7450605dafe',\n",
       " '52974f0b-fbbf-4964-879f-c32e4ec7a812',\n",
       " '710611f8-8a5b-44ba-b533-eba0c7c21d20',\n",
       " '411ae1a8-4dc9-4366-a571-7e5a642331c3',\n",
       " 'f01b4c3f-2579-469d-ac14-0f82df8b9aef',\n",
       " 'fc3d3ebb-6091-4156-b230-06400e5c5b26',\n",
       " 'f90f0996-5822-48c5-8959-ed08e0af8229',\n",
       " 'a78378d0-b47e-44b5-92d6-ec154bd601bc',\n",
       " 'b2903d39-39bb-46b9-b3e5-781c73352d7b',\n",
       " '514077ec-2be4-4c4a-8f47-fda7d7e38137',\n",
       " '94724a34-9593-4a5d-8f67-4e8fb8433a57',\n",
       " '5bb4ff8d-9ecf-44aa-8969-886b0c359f03',\n",
       " 'a84cc165-709c-47f5-939d-ea49e79dbdf4',\n",
       " '85ef65de-2041-45ac-af8a-83a9c4a43c90',\n",
       " '4d231e63-6c7e-4b95-86a9-622da5d67bb1',\n",
       " '66930b19-f018-4af2-b058-a95af27350e8',\n",
       " 'd1829db6-3666-4d0b-9602-e4dd7f87b249']"
      ]
     },
     "execution_count": 21,
     "metadata": {},
     "output_type": "execute_result"
    }
   ],
   "source": [
    "vector_store.add(nodes)"
   ]
  },
  {
   "cell_type": "code",
   "execution_count": 22,
   "metadata": {},
   "outputs": [],
   "source": [
    "from llama_index import VectorStoreIndex,ServiceContext\n",
    "from llama_index.storage import StorageContext"
   ]
  },
  {
   "cell_type": "code",
   "execution_count": 23,
   "metadata": {},
   "outputs": [],
   "source": [
    "service_context = ServiceContext.from_defaults(llm=llm,embed_model=embed_model)"
   ]
  },
  {
   "cell_type": "code",
   "execution_count": 24,
   "metadata": {},
   "outputs": [],
   "source": [
    "index = VectorStoreIndex.from_vector_store(service_context=service_context,vector_store=vector_store)"
   ]
  },
  {
   "cell_type": "code",
   "execution_count": 25,
   "metadata": {},
   "outputs": [],
   "source": [
    "query_engine = index.as_query_engine()"
   ]
  },
  {
   "cell_type": "code",
   "execution_count": 26,
   "metadata": {},
   "outputs": [],
   "source": [
    "query = \"What is Diploblastic and Triploblastic Organisation?\""
   ]
  },
  {
   "cell_type": "code",
   "execution_count": 27,
   "metadata": {},
   "outputs": [],
   "source": [
    "response = query_engine.query(query)"
   ]
  },
  {
   "cell_type": "code",
   "execution_count": 28,
   "metadata": {},
   "outputs": [
    {
     "name": "stdout",
     "output_type": "stream",
     "text": [
      "> Source (Doc id: 7d2d5431-af2d-4dc1-a6f7-96330e4cfedc): When\n",
      "any plane passing through the central axis of\n",
      "the body divides the organism into two identic...\n",
      "\n",
      "> Source (Doc id: b806f0dc-a48d-407e-b529-80ffd52102d6): 38\n",
      "BIOLOGY\n",
      "Echinoderms and Chordates, organs have\n",
      "associated to form functional systems, each\n",
      "sys...\n",
      "query was: What is Diploblastic and Triploblastic Organisation?\n",
      "answer was: Diploblastic animals are those in which the cells are arranged in two embryonic layers, an external ectoderm and an internal endoderm, with an undifferentiated layer called mesoglea present in between. Coelenterates are an example of diploblastic animals. On the other hand, triploblastic animals have three embryonic layers - ectoderm, mesoderm, and endoderm.\n"
     ]
    }
   ],
   "source": [
    "print(response.get_formatted_sources())\n",
    "print(\"query was:\", query)\n",
    "print(\"answer was:\", response)"
   ]
  },
  {
   "cell_type": "code",
   "execution_count": 29,
   "metadata": {},
   "outputs": [
    {
     "name": "stdout",
     "output_type": "stream",
     "text": [
      "('Diploblastic animals are those in which the cells are arranged in two '\n",
      " 'embryonic layers, an external ectoderm and an internal endoderm, with an '\n",
      " 'undifferentiated layer called mesoglea present in between. Coelenterates are '\n",
      " 'an example of diploblastic animals. On the other hand, triploblastic animals '\n",
      " 'have three embryonic layers - ectoderm, mesoderm, and endoderm.')\n"
     ]
    }
   ],
   "source": [
    "pprint(str(response))"
   ]
  },
  {
   "cell_type": "code",
   "execution_count": null,
   "metadata": {},
   "outputs": [],
   "source": []
  }
 ],
 "metadata": {
  "kernelspec": {
   "display_name": "env",
   "language": "python",
   "name": "python3"
  },
  "language_info": {
   "codemirror_mode": {
    "name": "ipython",
    "version": 3
   },
   "file_extension": ".py",
   "mimetype": "text/x-python",
   "name": "python",
   "nbconvert_exporter": "python",
   "pygments_lexer": "ipython3",
   "version": "3.8.10"
  }
 },
 "nbformat": 4,
 "nbformat_minor": 2
}

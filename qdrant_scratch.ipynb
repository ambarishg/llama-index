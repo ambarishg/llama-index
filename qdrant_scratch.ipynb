{
 "cells": [
  {
   "cell_type": "code",
   "execution_count": 32,
   "metadata": {},
   "outputs": [],
   "source": [
    "from llama_index.vector_stores.qdrant import QdrantVectorStore\n",
    "from qdrant_client import QdrantClient\n",
    "from config import *\n",
    "from pprint import pprint"
   ]
  },
  {
   "cell_type": "code",
   "execution_count": 33,
   "metadata": {},
   "outputs": [],
   "source": [
    "client = QdrantClient(URL,port=6333)"
   ]
  },
  {
   "cell_type": "code",
   "execution_count": 34,
   "metadata": {},
   "outputs": [],
   "source": [
    "vector_store = QdrantVectorStore(client=client, collection_name=COLLECTION_NAME)"
   ]
  },
  {
   "cell_type": "code",
   "execution_count": 35,
   "metadata": {},
   "outputs": [],
   "source": [
    "import fitz"
   ]
  },
  {
   "cell_type": "code",
   "execution_count": 36,
   "metadata": {},
   "outputs": [],
   "source": [
    "doc = fitz.open(DIR_PATH + \"/Tata-Steel-Corporate-Brochure-2020-21.pdf\")"
   ]
  },
  {
   "cell_type": "code",
   "execution_count": 37,
   "metadata": {},
   "outputs": [],
   "source": [
    "from llama_index.core.node_parser import SentenceSplitter"
   ]
  },
  {
   "cell_type": "code",
   "execution_count": 38,
   "metadata": {},
   "outputs": [],
   "source": [
    "text_splitter = SentenceSplitter(\n",
    "    chunk_size=512\n",
    ")"
   ]
  },
  {
   "cell_type": "code",
   "execution_count": 39,
   "metadata": {},
   "outputs": [],
   "source": [
    "text_chunks = []\n",
    "# maintain relationship with source doc index, to help inject doc metadata in (3)\n",
    "doc_idxs = []\n",
    "for doc_idx, page in enumerate(doc):\n",
    "    page_text = page.get_text(\"text\")\n",
    "    cur_text_chunks = text_splitter.split_text(page_text)\n",
    "    text_chunks.extend(cur_text_chunks)\n",
    "    doc_idxs.extend([doc_idx] * len(cur_text_chunks))"
   ]
  },
  {
   "cell_type": "code",
   "execution_count": 40,
   "metadata": {},
   "outputs": [
    {
     "data": {
      "text/plain": [
       "56"
      ]
     },
     "execution_count": 40,
     "metadata": {},
     "output_type": "execute_result"
    }
   ],
   "source": [
    "len(doc_idxs)"
   ]
  },
  {
   "cell_type": "code",
   "execution_count": 41,
   "metadata": {},
   "outputs": [
    {
     "name": "stdout",
     "output_type": "stream",
     "text": [
      "('A vision for tomorrow \\n'\n",
      " '2\\n'\n",
      " ' \\n'\n",
      " 'Tata group overview \\n'\n",
      " '12\\n'\n",
      " ' \\n'\n",
      " 'Tata Steel group overview \\n'\n",
      " '18\\n'\n",
      " ' \\n'\n",
      " 'Tata Steel India overview \\n'\n",
      " '28\\n'\n",
      " 'A vision beyond operations \\n'\n",
      " '40\\n'\n",
      " ' \\n'\n",
      " 'Innovation \\n'\n",
      " '42\\n'\n",
      " ' \\n'\n",
      " 'Technology \\n'\n",
      " '46\\n'\n",
      " ' \\n'\n",
      " 'Sustainability \\n'\n",
      " '50\\n'\n",
      " 'Directory of group companies \\n'\n",
      " '64\\n'\n",
      " 'Disclaimer: While care has been taken to ensure that the \\n'\n",
      " 'information in the Corporate Brochure is accurate, neither Tata \\n'\n",
      " 'Steel nor its subsidiaries accept responsibility or liability for \\n'\n",
      " 'errors or information that is found to be misleading. All content \\n'\n",
      " 'published is copyright of Tata\\xa0Steel and may not be reproduced \\n'\n",
      " 'without the written permission of the publishers.\\n'\n",
      " 'Contents\\n'\n",
      " 'GAS STORAGE, PORT TALBOT')\n"
     ]
    }
   ],
   "source": [
    "pprint(text_chunks[1])"
   ]
  },
  {
   "cell_type": "code",
   "execution_count": 42,
   "metadata": {},
   "outputs": [],
   "source": [
    "from llama_index.core.schema import TextNode"
   ]
  },
  {
   "cell_type": "code",
   "execution_count": 43,
   "metadata": {},
   "outputs": [],
   "source": [
    "nodes = []\n",
    "for idx, text_chunk in enumerate(text_chunks):\n",
    "    node = TextNode(\n",
    "        text=text_chunk,\n",
    "    )\n",
    "    src_doc_idx = doc_idxs[idx]\n",
    "    src_page = doc[src_doc_idx]\n",
    "    nodes.append(node)"
   ]
  },
  {
   "cell_type": "code",
   "execution_count": 44,
   "metadata": {},
   "outputs": [],
   "source": [
    "from llama_index.llms.azure_openai import AzureOpenAI\n",
    "llm = AzureOpenAI(\n",
    "    model=\"gpt-35-turbo\",\n",
    "    deployment_name=deployment_id_gpt4,\n",
    "    api_key=key,\n",
    "    azure_endpoint=endpoint,\n",
    "    api_version=api_version,\n",
    ")"
   ]
  },
  {
   "cell_type": "code",
   "execution_count": 45,
   "metadata": {},
   "outputs": [],
   "source": [
    "from llama_index.core.extractors import (\n",
    "    QuestionsAnsweredExtractor,\n",
    "    TitleExtractor,\n",
    ")\n",
    "from llama_index.core.ingestion import IngestionPipeline\n",
    "\n",
    "extractors = [\n",
    "    TitleExtractor(nodes=5, llm=llm),\n",
    "    QuestionsAnsweredExtractor(questions=3, llm=llm),\n",
    "]"
   ]
  },
  {
   "cell_type": "code",
   "execution_count": 46,
   "metadata": {},
   "outputs": [
    {
     "name": "stderr",
     "output_type": "stream",
     "text": [
      "  0%|          | 0/5 [00:00<?, ?it/s]"
     ]
    },
    {
     "name": "stderr",
     "output_type": "stream",
     "text": [
      "100%|██████████| 5/5 [00:00<00:00,  5.82it/s]\n",
      "100%|██████████| 56/56 [00:18<00:00,  3.06it/s]\n"
     ]
    }
   ],
   "source": [
    "pipeline = IngestionPipeline(\n",
    "    transformations=extractors,\n",
    ")\n",
    "nodes = await pipeline.arun(nodes=nodes, in_place=False)"
   ]
  },
  {
   "cell_type": "code",
   "execution_count": 48,
   "metadata": {},
   "outputs": [
    {
     "name": "stdout",
     "output_type": "stream",
     "text": [
      "{'document_title': 'Innovative Approaches to Sustainability and Steel '\n",
      "                   'Production for Building Landmarks and Advancing '\n",
      "                   'Industries.',\n",
      " 'questions_this_excerpt_can_answer': '1. What are some innovative approaches '\n",
      "                                      'to sustainability in steel production '\n",
      "                                      'that can be used to build landmarks and '\n",
      "                                      'advance industries?\\n'\n",
      "                                      '2. How can steel production be made '\n",
      "                                      'future-ready while also being resilient '\n",
      "                                      'and resolute?\\n'\n",
      "                                      '3. What is the content of the Corporate '\n",
      "                                      'Brochure for FY 2020-21 and how does it '\n",
      "                                      'relate to innovative approaches to '\n",
      "                                      'sustainability and steel production? \\n'\n",
      "                                      '\\n'\n",
      "                                      'Higher-level summary: This context '\n",
      "                                      'provides information about innovative '\n",
      "                                      'approaches to sustainability and steel '\n",
      "                                      'production for building landmarks and '\n",
      "                                      'advancing industries, as well as a '\n",
      "                                      'corporate brochure for the fiscal year '\n",
      "                                      '2020-21.'}\n"
     ]
    }
   ],
   "source": [
    "pprint(nodes[0].metadata)"
   ]
  },
  {
   "cell_type": "code",
   "execution_count": 50,
   "metadata": {},
   "outputs": [
    {
     "name": "stderr",
     "output_type": "stream",
     "text": [
      "Fetching 9 files:   0%|          | 0/9 [00:00<?, ?it/s]"
     ]
    },
    {
     "name": "stderr",
     "output_type": "stream",
     "text": [
      "Fetching 9 files: 100%|██████████| 9/9 [00:00<00:00, 17.11it/s]\n"
     ]
    }
   ],
   "source": [
    "from llama_index.embeddings.fastembed import FastEmbedEmbedding\n",
    "\n",
    "embed_model = FastEmbedEmbedding()"
   ]
  },
  {
   "cell_type": "code",
   "execution_count": 51,
   "metadata": {},
   "outputs": [],
   "source": [
    "for node in nodes:\n",
    "    node_embedding = embed_model.get_text_embedding(\n",
    "        node.get_content(metadata_mode=\"all\")\n",
    "    )\n",
    "    node.embedding = node_embedding"
   ]
  },
  {
   "cell_type": "code",
   "execution_count": 52,
   "metadata": {},
   "outputs": [
    {
     "name": "stdout",
     "output_type": "stream",
     "text": [
      "TextNode(id_='1f7db6a6-6ad9-42b8-8cdd-5e3d1c89fc38', embedding=[-0.03957550600171089, 0.04148934409022331, 0.01611850969493389, 0.0357433557510376, 0.03565003350377083, 0.03834414482116699, -0.055616386234760284, -0.015265755355358124, -0.02329101972281933, -0.016623063012957573, 8.186084596673027e-05, -0.03751275688409805, -0.0016249370528385043, -0.00993414781987667, 0.031663376837968826, 0.06717957556247711, -0.0013144455151632428, -0.025387492030858994, -0.005217358469963074, -0.002842647023499012, 0.030334535986185074, -0.03319692984223366, -0.008700383827090263, 0.004193538334220648, 0.05778948962688446, 0.007334763649851084, -0.020845139399170876, -0.003431371646001935, 0.006867974065244198, -0.18131230771541595, -0.014363307505846024, 0.010435276664793491, 0.0011663608020171523, -0.012378002516925335, -0.010504655539989471, -0.006966032087802887, -0.02077666111290455, 0.04153577983379364, 0.016413889825344086, 0.08788636326789856, 0.027744222432374954, 0.02897641621530056, 0.013375033624470234, -0.03445727378129959, -0.02141672559082508, 0.04051996394991875, 0.06995941698551178, -0.05138823762536049, -0.025744091719388962, -0.01691446267068386, 0.0028402742464095354, -0.04370228201150894, -0.04375573992729187, -0.01073423121124506, 0.040749628096818924, 0.05940330773591995, -0.022739684209227562, 0.009290473535656929, 0.028101881965994835, 0.029435841366648674, 0.029237693175673485, -0.018938761204481125, -0.19247758388519287, 0.08452954888343811, 0.016867736354470253, 0.04563131183385849, -0.10101533681154251, 0.010143406689167023, -0.01074887253344059, 0.032976966351270676, 0.024529246613383293, -0.04485084488987923, -0.0010404495988041162, 0.02168174646794796, 0.04988551139831543, 0.0015168191166594625, -0.014437543228268623, 0.0023224269971251488, 0.00832871813327074, -0.09449377655982971, 0.036799848079681396, 0.06583859771490097, -0.0627496987581253, -0.02124287746846676, -0.04781214892864227, 0.0037959530018270016, -0.001615726388990879, 0.05272466689348221, 0.04265829548239708, 0.017354099079966545, 0.027286579832434654, -0.004898460581898689, 0.04082247614860535, -0.027615036815404892, -0.09852058440446854, -0.04020506888628006, 0.05528300255537033, 0.014575701206922531, -0.011778553016483784, 0.4285637438297272, -0.051120784133672714, 0.004363004118204117, 0.04287439584732056, -0.012927687726914883, -0.010135616175830364, 0.033393215388059616, -0.011400299146771431, -0.021618854254484177, 0.024488341063261032, 0.006820159498602152, 0.013328035362064838, -0.018637873232364655, 0.008090008981525898, -0.03378109633922577, 0.015005816705524921, -0.02390466444194317, 0.017913324758410454, 0.02427026256918907, -0.04379560798406601, -0.0013750346843153238, 0.017382891848683357, 0.009647362865507603, 0.061729855835437775, -0.032211095094680786, -0.031067147850990295, 0.006114894058555365, 0.03964753448963165, 0.012809712439775467, 0.01191598828881979, 0.04324793443083763, 0.011572194285690784, 0.02197522670030594, -0.060854099690914154, 0.0003304670099169016, -0.03447763994336128, -0.00265262508764863, 0.021023867651820183, -0.028818879276514053, 0.05351181700825691, 0.005218870472162962, 0.038608089089393616, 0.0022198078222572803, 0.026561332866549492, -0.11511653661727905, -0.028351839631795883, 0.1008889377117157, 0.040060799568891525, -0.01975192315876484, -0.03046930767595768, -0.06630442291498184, -0.019748134538531303, 0.00024109867808874696, 0.012497553601861, -0.023791305720806122, 0.01905108615756035, -0.0380244143307209, -0.002246654825285077, 0.00659008277580142, -0.02446664869785309, -0.0037761544808745384, -0.051254887133836746, -0.005692866165190935, -0.06585875153541565, 0.08276379853487015, 0.03245563060045242, -0.12158791720867157, -0.05457152798771858, 0.03498649224638939, 0.04557402431964874, -0.0523122102022171, -0.01656755618751049, 0.04502644017338753, 0.029741454869508743, -0.04535425081849098, 0.1011655330657959, 0.06522465497255325, -0.054015547037124634, -0.009834987111389637, 0.04334568604826927, 0.08642369508743286, 0.03920024633407593, 0.018118876963853836, -0.020979441702365875, -0.025247320532798767, -0.00021421178826130927, -0.07351641356945038, -0.016672609373927116, -0.03362206742167473, -0.03059263341128826, 0.031186264008283615, -0.06331919133663177, -0.014353637583553791, -0.009686293080449104, 0.08677217364311218, -0.047486476600170135, -0.021796483546495438, 0.02533951960504055, -0.04392998293042183, 0.056514035910367966, -0.028165793046355247, 0.005895006936043501, 0.017368394881486893, -0.03723306953907013, 0.02380240708589554, 0.00463385134935379, 0.008565514348447323, 0.06912654638290405, -0.022668706253170967, 0.03458864986896515, 0.003650425933301449, -0.07110268622636795, -0.026039252057671547, 0.011621988378465176, -0.0014588901540264487, 0.019688887521624565, -0.029122935608029366, 0.030066421255469322, -0.004189433995634317, -0.057127952575683594, -0.02875649183988571, 0.052491623908281326, 0.012019345536828041, -0.03491884097456932, -0.3010978698730469, 0.033462490886449814, -0.006983769126236439, -0.004902248736470938, 0.02583353780210018, -0.02045709453523159, 0.00655927462503314, -0.010364541783928871, -0.05747532472014427, -0.01675991527736187, 0.06903860718011856, 1.241430027221213e-06, -0.009000048041343689, -0.03995150327682495, 0.07985752820968628, -0.005929434206336737, 0.03912776708602905, -0.09985096007585526, 0.03658890351653099, -0.030700668692588806, -0.05383893847465515, 0.02865857444703579, -0.003020300529897213, -0.04398538917303085, 0.02205808460712433, -0.0729345977306366, 0.08501747995615005, -0.08320754766464233, -0.02374245412647724, -0.00772810447961092, 0.031016234308481216, 0.05244755372405052, -0.026418671011924744, -0.07562750577926636, 0.00954351108521223, -0.0011417183559387922, 0.028370019048452377, 0.021951213479042053, -0.028389865532517433, 0.00303599308244884, 0.03219545632600784, 0.0372331365942955, -0.041670288890600204, 0.01834913156926632, 0.011508753523230553, -0.039959266781806946, -0.03262757882475853, 0.013749898411333561, 0.005753928329795599, 0.009715625084936619, -0.011237945407629013, 0.07406222820281982, 0.014503280632197857, 0.03237088769674301, -0.030415531247854233, 0.020930780097842216, -0.06845316290855408, 0.05454190447926521, 0.012980110011994839, -0.03234519064426422, 0.03706035017967224, 0.022648345679044724, -0.005445783957839012, 0.023235654458403587, 0.041314490139484406, -0.006343437358736992, 0.015158036723732948, -0.0008423172985203564, -0.047318413853645325, -0.03692976012825966, -0.011932342313230038, 0.08948135375976562, 0.02907424233853817, -0.03007979691028595, 0.0487324558198452, 0.06977903842926025, -0.036820799112319946, -0.018021024763584137, 0.06638486683368683, -0.026912720873951912, 0.01355171948671341, -0.015057452023029327, 0.00383803341537714, 0.03761512413620949, 0.008554686792194843, 0.022996142506599426, -0.02468244917690754, -0.08968028426170349, 0.019771864637732506, 0.004877075087279081, -0.018875930458307266, -0.028657814487814903, -0.012370641343295574, -0.056051790714263916, 0.04621207341551781, -0.014842567965388298, -0.23815323412418365, -0.09343528747558594, 0.07834647595882416, -0.019919801503419876, -0.01272938959300518, -0.010839295573532581, 0.01798071525990963, -0.0317334346473217, 0.031057914718985558, 0.05761466920375824, -0.03118080273270607, 0.008342218585312366, -0.011146904900670052, -0.029734456911683083, 0.020693233236670494, -0.036468133330345154, 0.09042447805404663, -0.0005925206933170557, 0.004273514728993177, -0.03142000362277031, 0.02171534299850464, 0.04570680856704712, 0.1406768262386322, 0.019805559888482094, 0.02320478856563568, -0.012489724904298782, 0.0014718635939061642, -0.000769313657656312, -0.01184097956866026, 0.011783650144934654, 0.04019848629832268, -0.06264276057481766, 0.048649612814188004, -0.015061696991324425, 0.011699152179062366, 0.04164555296301842, -0.00035217448021285236, 0.07005199044942856, -0.03493950515985489, 0.018250063061714172, -0.013716503977775574, -0.009329996071755886, -0.03518515080213547, 0.001591127715073526, 0.050531525164842606, -0.06204092130064964, -0.02695007249712944, -0.06664782017469406, -0.0018402491696178913, -0.03418976068496704, -0.06699123978614807, 0.013799985870718956, 0.034687288105487823, -0.019159626215696335, 0.00961265992373228, 0.05158034339547157, 0.08723963052034378, -0.03290143981575966, -0.04191764071583748, 0.02624572068452835, 0.0674615427851677, 0.01174421701580286, -0.04816790670156479, 0.07243388146162033, 0.014683025889098644], metadata={'document_title': 'Innovative Approaches to Sustainability and Steel Production for Building Landmarks and Advancing Industries.', 'questions_this_excerpt_can_answer': '1. What are some innovative approaches to sustainability in steel production that can be used to build landmarks and advance industries?\\n2. How can steel production be made future-ready while also being resilient and resolute?\\n3. What is the content of the Corporate Brochure for FY 2020-21 and how does it relate to innovative approaches to sustainability and steel production? \\n\\nHigher-level summary: This context provides information about innovative approaches to sustainability and steel production for building landmarks and advancing industries, as well as a corporate brochure for the fiscal year 2020-21.'}, excluded_embed_metadata_keys=[], excluded_llm_metadata_keys=[], relationships={}, text='Resilient.  \\nResolute.  \\nFuture-Ready.\\nCorporate Brochure FY 2020-21', start_char_idx=None, end_char_idx=None, text_template='[Excerpt from document]\\n{metadata_str}\\nExcerpt:\\n-----\\n{content}\\n-----\\n', metadata_template='{key}: {value}', metadata_seperator='\\n')\n"
     ]
    }
   ],
   "source": [
    "pprint(nodes[0])"
   ]
  },
  {
   "cell_type": "code",
   "execution_count": 53,
   "metadata": {},
   "outputs": [
    {
     "data": {
      "text/plain": [
       "['1f7db6a6-6ad9-42b8-8cdd-5e3d1c89fc38',\n",
       " 'fb18a1d3-7df0-456e-b01b-c726caa62ee3',\n",
       " '99d7e582-f0d2-429b-b2a6-f004afb59beb',\n",
       " 'bceecd49-43d3-498f-b973-f7dbc449ed21',\n",
       " 'e4b19d33-7939-4a5e-8db4-0c26a99813a8',\n",
       " '0ffb2ac5-a1c7-4441-97cf-308eb0ce6994',\n",
       " '75450904-59cf-45e4-9707-ed3be6633a71',\n",
       " 'f939e1eb-64a1-403b-926e-a9b8d1e0de0b',\n",
       " '9c93a6bd-a721-46a6-bcc3-f34aac2bfba1',\n",
       " '0db3fe49-f095-4d3f-90ae-ca7f5cfcb700',\n",
       " '37edae1e-ccbb-4039-9466-8504b42e1901',\n",
       " '6cc719ce-3e64-48d2-b3a4-21a985eb36e3',\n",
       " '5fa4be0a-5ef1-44dc-9457-9f25d325c0f6',\n",
       " '79a1dfab-d7b3-4660-9dea-a2969d58ebd1',\n",
       " 'e6b9613a-77f8-4219-a844-c77ae05af847',\n",
       " '0e799ecd-8189-4023-9df6-a78406f4c4f0',\n",
       " 'efdb8f29-4dc8-43a2-82e8-59d3faa438b3',\n",
       " '3a194a6a-0f53-4089-bb46-065107fe6137',\n",
       " 'cdd39858-e716-4f2f-9c55-077cea2f7715',\n",
       " '40cbcba8-6844-47c3-aad3-31b5e0bb173c',\n",
       " '53b4196a-c213-42fa-8007-dbf0b5db176a',\n",
       " '81f60fb7-19af-4f7b-aee6-b7a57048444c',\n",
       " '8ba9c32d-93e5-401b-863b-d831a33155be',\n",
       " 'bca0538f-8954-4843-8c84-29d265eae814',\n",
       " 'f1445b5a-8db0-4108-9202-a21285ae6b34',\n",
       " 'be64365d-c470-41f0-84b5-7e0359650098',\n",
       " '7d1cfb4b-9b81-496b-a1c5-fefb39f1ff77',\n",
       " 'c26bbf9f-db62-44dd-9871-3dcf11cfda9b',\n",
       " '22367729-323b-47c0-b766-e98f459f883d',\n",
       " '5675a177-bf87-4844-b93b-070f32cba77f',\n",
       " '5807b5e7-2363-4c80-ad51-f88cac7c379e',\n",
       " '381b7605-bc81-4b03-8f15-c8279771cd40',\n",
       " 'b7177a3e-2ae4-4096-b52b-57805b35eb69',\n",
       " '10ca777c-593d-42cc-8669-7e44e47286ad',\n",
       " 'c4d224d8-4a14-4e40-8e9f-05d4833576d9',\n",
       " 'b7ad985f-22ac-4cce-acca-aced5cbf1bdf',\n",
       " 'dec6495a-e54f-4d9a-87a8-98082f401c6b',\n",
       " '88402213-6bb4-4f51-a7fa-d702875e668a',\n",
       " '3c274c6e-ebc0-40ab-8f21-524c27d3e77a',\n",
       " '2f7d10b9-df3f-400c-bb65-0eb326d31e1c',\n",
       " 'a42ceb4d-6329-41eb-a4f2-1527fa8d3a25',\n",
       " '15b8724b-b000-43e7-94bb-2192df0580e1',\n",
       " 'a5d9c601-0062-4c0b-bad3-e11de16d7073',\n",
       " 'c981d0e1-a1e4-45f6-b70a-2df14ad5541b',\n",
       " '8aa9d7d3-43b7-45e5-96a0-1fabae36a3ca',\n",
       " 'fad09b32-95d0-4b02-b6dd-95cab1985dfa',\n",
       " '236a434b-7f05-4694-872a-18c492fba98b',\n",
       " 'e61f7c79-6ca4-4017-8362-335f03c4fe4c',\n",
       " '348c106b-c447-4dab-8103-2e33fb6c97e9',\n",
       " '78cda21b-3fb1-4c47-b860-d61fabb64a38',\n",
       " '48b654e9-8120-4d52-b832-aa947f2cd2ce',\n",
       " 'd9bc38ba-daee-4187-9b54-e5fb7670b1f6',\n",
       " '999b3fa6-6b9b-4326-848e-adc577cc1dd2',\n",
       " 'cadd189d-b7e1-4d00-a265-2411e87525af',\n",
       " '3aab09dd-bd1c-406e-ae43-171c1820edc2',\n",
       " '9745b70e-3a65-4c44-9e78-84db54a645e0']"
      ]
     },
     "execution_count": 53,
     "metadata": {},
     "output_type": "execute_result"
    }
   ],
   "source": [
    "vector_store.add(nodes)"
   ]
  },
  {
   "cell_type": "code",
   "execution_count": 54,
   "metadata": {},
   "outputs": [],
   "source": [
    "from llama_index.core import Settings\n",
    "\n",
    "Settings.llm = llm\n",
    "Settings.embed_model = embed_model"
   ]
  },
  {
   "cell_type": "code",
   "execution_count": 55,
   "metadata": {},
   "outputs": [],
   "source": [
    "from llama_index.core  import VectorStoreIndex"
   ]
  },
  {
   "cell_type": "code",
   "execution_count": 56,
   "metadata": {},
   "outputs": [],
   "source": [
    "index = VectorStoreIndex.from_vector_store(vector_store=vector_store)"
   ]
  },
  {
   "cell_type": "code",
   "execution_count": 57,
   "metadata": {},
   "outputs": [],
   "source": [
    "query_engine = index.as_query_engine()"
   ]
  },
  {
   "cell_type": "code",
   "execution_count": 58,
   "metadata": {},
   "outputs": [],
   "source": [
    "query = \"Describe about Tata Steel Kalinganagar?\""
   ]
  },
  {
   "cell_type": "code",
   "execution_count": 59,
   "metadata": {},
   "outputs": [],
   "source": [
    "response = query_engine.query(query)"
   ]
  },
  {
   "cell_type": "code",
   "execution_count": 60,
   "metadata": {},
   "outputs": [
    {
     "name": "stdout",
     "output_type": "stream",
     "text": [
      "> Source (Doc id: f1445b5a-8db0-4108-9202-a21285ae6b34): Key digital enablers\n",
      "Key operational \n",
      "highlights\n",
      "• Fastest ramp-up of \n",
      "greenfield plant\n",
      "• Fastest...\n",
      "\n",
      "> Source (Doc id: 53b4196a-c213-42fa-8007-dbf0b5db176a): Inside Tata Steel India\n",
      "We are India’s lowest cost producer \n",
      "of steel. Our history and journey \n",
      "a...\n",
      "query was: Describe about Tata Steel Kalinganagar?\n",
      "answer was: Tata Steel Kalinganagar is the second integrated steel plant in India owned by Tata Steel. It is spread over 3,000 acres and was commissioned in 2016. The plant achieved production levels at its rated capacity in less than two years and is designed to have a minimal water and carbon footprint. It has key digital enablers and operational highlights such as data-backed decision-making and real-time monitoring, advanced analytics, high-speed data extraction, artificial intelligence modelling, 3D printing, and predictive maintenance deployment. Tata Steel Kalinganagar is also included in the elite Global Lighthouse Network of the World Economic Forum for its leadership in applying Industry 4.0 technologies.\n"
     ]
    }
   ],
   "source": [
    "print(response.get_formatted_sources())\n",
    "print(\"query was:\", query)\n",
    "print(\"answer was:\", response)"
   ]
  },
  {
   "cell_type": "code",
   "execution_count": 61,
   "metadata": {},
   "outputs": [
    {
     "name": "stdout",
     "output_type": "stream",
     "text": [
      "('Tata Steel Kalinganagar is the second integrated steel plant in India owned '\n",
      " 'by Tata Steel. It is spread over 3,000 acres and was commissioned in 2016. '\n",
      " 'The plant achieved production levels at its rated capacity in less than two '\n",
      " 'years and is designed to have a minimal water and carbon footprint. It has '\n",
      " 'key digital enablers and operational highlights such as data-backed '\n",
      " 'decision-making and real-time monitoring, advanced analytics, high-speed '\n",
      " 'data extraction, artificial intelligence modelling, 3D printing, and '\n",
      " 'predictive maintenance deployment. Tata Steel Kalinganagar is also included '\n",
      " 'in the elite Global Lighthouse Network of the World Economic Forum for its '\n",
      " 'leadership in applying Industry 4.0 technologies.')\n"
     ]
    }
   ],
   "source": [
    "pprint(str(response))"
   ]
  },
  {
   "cell_type": "code",
   "execution_count": null,
   "metadata": {},
   "outputs": [],
   "source": []
  }
 ],
 "metadata": {
  "kernelspec": {
   "display_name": "env",
   "language": "python",
   "name": "python3"
  },
  "language_info": {
   "codemirror_mode": {
    "name": "ipython",
    "version": 3
   },
   "file_extension": ".py",
   "mimetype": "text/x-python",
   "name": "python",
   "nbconvert_exporter": "python",
   "pygments_lexer": "ipython3",
   "version": "3.10.13"
  }
 },
 "nbformat": 4,
 "nbformat_minor": 2
}

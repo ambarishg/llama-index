{
 "cells": [
  {
   "cell_type": "code",
   "execution_count": 19,
   "metadata": {},
   "outputs": [],
   "source": [
    "from llama_index.vector_stores.qdrant import QdrantVectorStore\n",
    "from qdrant_client import QdrantClient\n",
    "from config import *"
   ]
  },
  {
   "cell_type": "code",
   "execution_count": 20,
   "metadata": {},
   "outputs": [],
   "source": [
    "client = QdrantClient(URL,port=6333)"
   ]
  },
  {
   "cell_type": "code",
   "execution_count": 21,
   "metadata": {},
   "outputs": [],
   "source": [
    "vector_store = QdrantVectorStore(client=client, collection_name=COLLECTION_NAME)"
   ]
  },
  {
   "cell_type": "code",
   "execution_count": 22,
   "metadata": {},
   "outputs": [],
   "source": [
    "from llama_index.llms.azure_openai import AzureOpenAI\n",
    "llm = AzureOpenAI(\n",
    "    model=\"gpt-35-turbo\",\n",
    "    deployment_name=deployment_id_gpt4,\n",
    "    api_key=key,\n",
    "    azure_endpoint=endpoint,\n",
    "    api_version=api_version,\n",
    ")"
   ]
  },
  {
   "cell_type": "code",
   "execution_count": 23,
   "metadata": {},
   "outputs": [
    {
     "name": "stderr",
     "output_type": "stream",
     "text": [
      "Fetching 9 files: 100%|██████████| 9/9 [00:00<00:00, 50466.22it/s]\n"
     ]
    }
   ],
   "source": [
    "from llama_index.embeddings.fastembed import FastEmbedEmbedding\n",
    "\n",
    "embed_model = FastEmbedEmbedding()"
   ]
  },
  {
   "cell_type": "code",
   "execution_count": 24,
   "metadata": {},
   "outputs": [],
   "source": [
    "from llama_index.core import Settings\n",
    "from llama_index.core  import VectorStoreIndex\n",
    "\n",
    "Settings.llm = llm\n",
    "Settings.embed_model = embed_model"
   ]
  },
  {
   "cell_type": "code",
   "execution_count": 25,
   "metadata": {},
   "outputs": [],
   "source": [
    "index = VectorStoreIndex.from_vector_store(vector_store=vector_store)"
   ]
  },
  {
   "cell_type": "code",
   "execution_count": 26,
   "metadata": {},
   "outputs": [],
   "source": [
    "query_engine = index.as_query_engine()"
   ]
  },
  {
   "cell_type": "code",
   "execution_count": 38,
   "metadata": {},
   "outputs": [],
   "source": [
    "query = \"What should government do about road safety?\"\n",
    "query = \"What is the foreign participation in highways?\""
   ]
  },
  {
   "cell_type": "code",
   "execution_count": 39,
   "metadata": {},
   "outputs": [],
   "source": [
    "response = query_engine.query(query)"
   ]
  },
  {
   "cell_type": "code",
   "execution_count": 40,
   "metadata": {},
   "outputs": [
    {
     "name": "stdout",
     "output_type": "stream",
     "text": [
      "('> Source (Doc id: 5c78a53f-46df-41af-b6f1-a221bab6f204): — One of the most '\n",
      " 'attractive destinations for Foreign Direct Investment (FDI). 100% FDI '\n",
      " 'allowed i...\\n'\n",
      " '\\n'\n",
      " '> Source (Doc id: 35dd4a38-1f4d-4b3c-9a9e-3472cf6b50f1): 12 \\x02 Report of '\n",
      " 'the Committee\\n'\n",
      " 'cooperates with insurance companies and the\\n'\n",
      " 'Swedish automotive indus...\\n'\n",
      " '\\n'\n",
      " '> Source (Doc id: 78d34def-97dc-4dac-bdb6-080ad865c8b1): to be under taken '\n",
      " 'henceforth under \\n'\n",
      " 'NHDP. Well laid out policy and regulatory framework, includin...\\n'\n",
      " '\\n'\n",
      " '> Source (Doc id: 5f621997-4656-4c8e-bcaa-6d84d83bf688): 10 \\x02 Report of '\n",
      " 'the Committee\\n'\n",
      " 'technical support to state and local governments\\n'\n",
      " 'for constructing, i...\\n'\n",
      " '\\n'\n",
      " '> Source (Doc id: f9a8287d-cf93-4ac6-8cdf-b3ae020f533d): NATIONAL HIGHWAYS '\n",
      " 'DEVELOPMENT PROJECT\\n'\n",
      " 'Infrastructure is critical to improved productivity across ...')\n"
     ]
    }
   ],
   "source": [
    "pprint(response.get_formatted_sources())"
   ]
  },
  {
   "cell_type": "code",
   "execution_count": 29,
   "metadata": {},
   "outputs": [
    {
     "name": "stdout",
     "output_type": "stream",
     "text": [
      "> Source (Doc id: 888a8a07-aa16-42ae-8d8f-71249e220188): 14 \u0002 Report of the Committee\n",
      "of motorization suggest that strategies for\n",
      "reducing traffic injurie...\n",
      "\n",
      "> Source (Doc id: 4dd6886a-6874-4f91-9c62-1bb03fbecba3): 8 \u0002 Report of the Committee\n",
      "road safety. There is also no effective\n",
      "mechanism for coordinating th...\n",
      "query was: What should government do about road safety?\n",
      "answer was: Governments should make road safety a political priority, develop a multidisciplinary approach to road safety, appoint a lead agency for road safety, give it adequate resources, and make it publicly accountable. They should also set appropriate road safety targets and establish national road safety plans to achieve them, support the creation of safety advocacy groups, create budgets for road safety, and increase investment in demonstrably effective road safety activities.\n"
     ]
    }
   ],
   "source": [
    "\n",
    "print(\"query was:\", query)\n",
    "print(\"answer was:\", response)"
   ]
  },
  {
   "cell_type": "code",
   "execution_count": 41,
   "metadata": {},
   "outputs": [],
   "source": [
    "from pprint import pprint"
   ]
  },
  {
   "cell_type": "code",
   "execution_count": 42,
   "metadata": {},
   "outputs": [
    {
     "name": "stdout",
     "output_type": "stream",
     "text": [
      "('According to the excerpt from \"Opportunities and Policy Initiatives for '\n",
      " 'Profitable Partnership and Infrastructure Investment in Indian Highways and '\n",
      " 'National Highways Development Project: A Comprehensive Overview,\" '\n",
      " 'contractors and supervision consultants from around 27 countries are already '\n",
      " \"in India, helping implement one of the world's largest highways projects. \"\n",
      " 'The excerpt also provides a table listing the countries with contractors and '\n",
      " \"consultants currently working on India's highways projects. Therefore, \"\n",
      " 'foreign participation in highways in India is significant.')\n"
     ]
    }
   ],
   "source": [
    "pprint(str(response))"
   ]
  },
  {
   "cell_type": "code",
   "execution_count": 43,
   "metadata": {},
   "outputs": [],
   "source": [
    "from llama_index.core.retrievers import VectorIndexRetriever\n",
    "from llama_index.core.query_engine import RetrieverQueryEngine\n",
    "from llama_index.core import get_response_synthesizer"
   ]
  },
  {
   "cell_type": "code",
   "execution_count": 44,
   "metadata": {},
   "outputs": [],
   "source": [
    "# configure retriever\n",
    "retriever = VectorIndexRetriever(\n",
    "    index=index,\n",
    "    similarity_top_k=5,\n",
    "    llm = llm,\n",
    ")"
   ]
  },
  {
   "cell_type": "code",
   "execution_count": 45,
   "metadata": {},
   "outputs": [],
   "source": [
    "# configure response synthesizer\n",
    "response_synthesizer = get_response_synthesizer(\n",
    "    response_mode=\"tree_summarize\",\n",
    ")"
   ]
  },
  {
   "cell_type": "code",
   "execution_count": 46,
   "metadata": {},
   "outputs": [],
   "source": [
    "# assemble query engine\n",
    "query_engine = RetrieverQueryEngine(\n",
    "    retriever=retriever,\n",
    "    response_synthesizer=response_synthesizer,\n",
    ")\n",
    "\n",
    "# query\n",
    "response = query_engine.query(query)"
   ]
  },
  {
   "cell_type": "code",
   "execution_count": 47,
   "metadata": {},
   "outputs": [
    {
     "name": "stdout",
     "output_type": "stream",
     "text": [
      "('According to the excerpt from \"Opportunities and Policy Initiatives for '\n",
      " 'Profitable Partnership and Infrastructure Investment in Indian Highways and '\n",
      " 'National Highways Development Project: A Comprehensive Overview,\" '\n",
      " 'contractors and supervision consultants from around 27 countries are already '\n",
      " \"in India, helping implement one of the world's largest highways projects. \"\n",
      " 'The excerpt also provides a table that lists the number of contractors and '\n",
      " \"consultants from each country that are currently working on India's highways \"\n",
      " 'projects. Therefore, foreign participation in highways in India is '\n",
      " 'significant.')\n"
     ]
    }
   ],
   "source": [
    "pprint(str(response))"
   ]
  },
  {
   "cell_type": "code",
   "execution_count": null,
   "metadata": {},
   "outputs": [],
   "source": []
  }
 ],
 "metadata": {
  "kernelspec": {
   "display_name": "env",
   "language": "python",
   "name": "python3"
  },
  "language_info": {
   "codemirror_mode": {
    "name": "ipython",
    "version": 3
   },
   "file_extension": ".py",
   "mimetype": "text/x-python",
   "name": "python",
   "nbconvert_exporter": "python",
   "pygments_lexer": "ipython3",
   "version": "3.10.13"
  }
 },
 "nbformat": 4,
 "nbformat_minor": 2
}

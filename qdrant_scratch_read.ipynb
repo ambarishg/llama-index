{
 "cells": [
  {
   "cell_type": "code",
   "execution_count": 13,
   "metadata": {},
   "outputs": [],
   "source": [
    "from llama_index.vector_stores.qdrant import QdrantVectorStore\n",
    "from qdrant_client import QdrantClient\n",
    "from config import *"
   ]
  },
  {
   "cell_type": "code",
   "execution_count": 14,
   "metadata": {},
   "outputs": [],
   "source": [
    "client = QdrantClient(URL,port=6333)"
   ]
  },
  {
   "cell_type": "code",
   "execution_count": 15,
   "metadata": {},
   "outputs": [],
   "source": [
    "vector_store = QdrantVectorStore(client=client, collection_name=COLLECTION_NAME)"
   ]
  },
  {
   "cell_type": "code",
   "execution_count": 16,
   "metadata": {},
   "outputs": [],
   "source": [
    "from llama_index.llms import AzureOpenAI\n",
    "llm = AzureOpenAI(\n",
    "    model=\"gpt-35-turbo\",\n",
    "    deployment_name=deployment_id_gpt4,\n",
    "    api_key=key,\n",
    "    azure_endpoint=endpoint,\n",
    "    api_version=api_version,\n",
    ")"
   ]
  },
  {
   "cell_type": "code",
   "execution_count": 17,
   "metadata": {},
   "outputs": [],
   "source": [
    "from llama_index.embeddings import FastEmbedEmbedding\n",
    "\n",
    "embed_model = FastEmbedEmbedding()"
   ]
  },
  {
   "cell_type": "code",
   "execution_count": 18,
   "metadata": {},
   "outputs": [],
   "source": [
    "from llama_index import VectorStoreIndex,ServiceContext\n",
    "from llama_index.storage import StorageContext"
   ]
  },
  {
   "cell_type": "code",
   "execution_count": 19,
   "metadata": {},
   "outputs": [],
   "source": [
    "service_context = ServiceContext.from_defaults(llm=llm,embed_model=embed_model)"
   ]
  },
  {
   "cell_type": "code",
   "execution_count": 20,
   "metadata": {},
   "outputs": [],
   "source": [
    "index = VectorStoreIndex.from_vector_store(service_context=service_context,vector_store=vector_store)"
   ]
  },
  {
   "cell_type": "code",
   "execution_count": 21,
   "metadata": {},
   "outputs": [],
   "source": [
    "query_engine = index.as_query_engine()"
   ]
  },
  {
   "cell_type": "code",
   "execution_count": 22,
   "metadata": {},
   "outputs": [],
   "source": [
    "query = \"What are Arthopods?\""
   ]
  },
  {
   "cell_type": "code",
   "execution_count": 23,
   "metadata": {},
   "outputs": [],
   "source": [
    "response = query_engine.query(query)"
   ]
  },
  {
   "cell_type": "code",
   "execution_count": 24,
   "metadata": {},
   "outputs": [
    {
     "name": "stdout",
     "output_type": "stream",
     "text": [
      "> Source (Doc id: 98b6c8c7-92d3-490f-9bc9-b6566c6c3a43): 54\n",
      "BIOLOGY\n",
      "14. Match the following:\n",
      "(a) Operculum\n",
      "(i)\n",
      "Ctenophora\n",
      "(b) Parapodia\n",
      "(ii)\n",
      "Mollusca\n",
      "(c) ...\n",
      "\n",
      "> Source (Doc id: 886448d3-f242-41b8-a6d3-bc8d293e4def): 44\n",
      "BIOLOGY\n",
      "4.2.7\n",
      "Phylum – Arthropoda\n",
      "This is the largest phylum of Animalia which\n",
      "includes insect...\n",
      "query was: What are Arthopods?\n",
      "answer was: Arthropods are the largest phylum of Animalia which includes insects. They have an organ-system level of organisation, are bilaterally symmetrical, triploblastic, segmented and coelomate animals. Their body is covered by a chitinous exoskeleton and consists of head, thorax and abdomen. They have jointed appendages, respiratory organs, and sensory organs like antennae, eyes, and balancing organs. Excretion takes place through malpighian tubules and they are mostly dioecious. Fertilisation is usually internal and they are mostly oviparous. Examples of economically important arthropods include Apis (Honey bee), Bombyx (Silkworm), and Laccifer (Lac insect).\n"
     ]
    }
   ],
   "source": [
    "print(response.get_formatted_sources())\n",
    "print(\"query was:\", query)\n",
    "print(\"answer was:\", response)"
   ]
  },
  {
   "cell_type": "code",
   "execution_count": 28,
   "metadata": {},
   "outputs": [],
   "source": [
    "from pprint import pprint"
   ]
  },
  {
   "cell_type": "code",
   "execution_count": 29,
   "metadata": {},
   "outputs": [
    {
     "name": "stdout",
     "output_type": "stream",
     "text": [
      "('Arthropods are the largest phylum of Animalia which includes insects. They '\n",
      " 'have an organ-system level of organisation, are bilaterally symmetrical, '\n",
      " 'triploblastic, segmented and coelomate animals. Their body is covered by a '\n",
      " 'chitinous exoskeleton and consists of head, thorax and abdomen. They have '\n",
      " 'jointed appendages, respiratory organs, and sensory organs like antennae, '\n",
      " 'eyes, and balancing organs. Excretion takes place through malpighian tubules '\n",
      " 'and they are mostly dioecious. Fertilisation is usually internal and they '\n",
      " 'are mostly oviparous. Examples of economically important arthropods include '\n",
      " 'Apis (Honey bee), Bombyx (Silkworm), and Laccifer (Lac insect).')\n"
     ]
    }
   ],
   "source": [
    "pprint(str(response))"
   ]
  },
  {
   "cell_type": "code",
   "execution_count": null,
   "metadata": {},
   "outputs": [],
   "source": []
  }
 ],
 "metadata": {
  "kernelspec": {
   "display_name": "env",
   "language": "python",
   "name": "python3"
  },
  "language_info": {
   "codemirror_mode": {
    "name": "ipython",
    "version": 3
   },
   "file_extension": ".py",
   "mimetype": "text/x-python",
   "name": "python",
   "nbconvert_exporter": "python",
   "pygments_lexer": "ipython3",
   "version": "3.8.10"
  }
 },
 "nbformat": 4,
 "nbformat_minor": 2
}
